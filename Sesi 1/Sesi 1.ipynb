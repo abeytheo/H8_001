{
 "cells": [
  {
   "cell_type": "markdown",
   "id": "f60fdd6f",
   "metadata": {},
   "source": [
    "### Integer"
   ]
  },
  {
   "cell_type": "code",
   "execution_count": 3,
   "id": "9b290c40",
   "metadata": {},
   "outputs": [
    {
     "name": "stdout",
     "output_type": "stream",
     "text": [
      "101\n"
     ]
    }
   ],
   "source": [
    "print(100 + 1)"
   ]
  },
  {
   "cell_type": "code",
   "execution_count": 4,
   "id": "72bc3196",
   "metadata": {},
   "outputs": [
    {
     "name": "stdout",
     "output_type": "stream",
     "text": [
      "100000000000000\n"
     ]
    }
   ],
   "source": [
    "print(100000000000000)"
   ]
  },
  {
   "cell_type": "code",
   "execution_count": 7,
   "id": "23acc938",
   "metadata": {},
   "outputs": [
    {
     "data": {
      "text/plain": [
       "int"
      ]
     },
     "execution_count": 7,
     "metadata": {},
     "output_type": "execute_result"
    }
   ],
   "source": [
    "type(10)"
   ]
  },
  {
   "cell_type": "markdown",
   "id": "81594bb9",
   "metadata": {},
   "source": [
    "### Float"
   ]
  },
  {
   "cell_type": "code",
   "execution_count": 8,
   "id": "4985ae56",
   "metadata": {},
   "outputs": [
    {
     "name": "stdout",
     "output_type": "stream",
     "text": [
      "4.2\n"
     ]
    }
   ],
   "source": [
    "print(4.2)"
   ]
  },
  {
   "cell_type": "code",
   "execution_count": 11,
   "id": "1692fa00",
   "metadata": {},
   "outputs": [],
   "source": [
    "import math"
   ]
  },
  {
   "cell_type": "code",
   "execution_count": 13,
   "id": "446cd6a0",
   "metadata": {},
   "outputs": [
    {
     "name": "stdout",
     "output_type": "stream",
     "text": [
      "4200000.0\n"
     ]
    }
   ],
   "source": [
    "print(4.2*math.pow(10,6))"
   ]
  },
  {
   "cell_type": "code",
   "execution_count": 15,
   "id": "cca09392",
   "metadata": {},
   "outputs": [
    {
     "name": "stdout",
     "output_type": "stream",
     "text": [
      "4200000.0\n"
     ]
    }
   ],
   "source": [
    "print(4.2e6)"
   ]
  },
  {
   "cell_type": "code",
   "execution_count": 16,
   "id": "85b21904",
   "metadata": {},
   "outputs": [
    {
     "data": {
      "text/plain": [
       "float"
      ]
     },
     "execution_count": 16,
     "metadata": {},
     "output_type": "execute_result"
    }
   ],
   "source": [
    "type(4.2)"
   ]
  },
  {
   "cell_type": "code",
   "execution_count": 17,
   "id": "dbc0c537",
   "metadata": {},
   "outputs": [
    {
     "name": "stdout",
     "output_type": "stream",
     "text": [
      "-3.14\n"
     ]
    }
   ],
   "source": [
    "print(-3.14)"
   ]
  },
  {
   "cell_type": "markdown",
   "id": "f1e1ad3c",
   "metadata": {},
   "source": [
    "### String"
   ]
  },
  {
   "cell_type": "code",
   "execution_count": 18,
   "id": "d58e546d",
   "metadata": {},
   "outputs": [
    {
     "name": "stdout",
     "output_type": "stream",
     "text": [
      "Hacktiv8\n"
     ]
    }
   ],
   "source": [
    "print(\"Hacktiv8\")"
   ]
  },
  {
   "cell_type": "code",
   "execution_count": 19,
   "id": "de3d3845",
   "metadata": {},
   "outputs": [
    {
     "data": {
      "text/plain": [
       "str"
      ]
     },
     "execution_count": 19,
     "metadata": {},
     "output_type": "execute_result"
    }
   ],
   "source": [
    "type(\"Hacktiv8\")"
   ]
  },
  {
   "cell_type": "code",
   "execution_count": 21,
   "id": "a620e1c3",
   "metadata": {},
   "outputs": [
    {
     "name": "stdout",
     "output_type": "stream",
     "text": [
      "1\n"
     ]
    }
   ],
   "source": [
    "if type(\"Hactiv8\") == str:\n",
    "    print(1)"
   ]
  },
  {
   "cell_type": "code",
   "execution_count": 22,
   "id": "69440b2f",
   "metadata": {},
   "outputs": [
    {
     "name": "stdout",
     "output_type": "stream",
     "text": [
      "1\n"
     ]
    }
   ],
   "source": [
    "if isinstance(\"Hactiv8\",str):\n",
    "    print(1)"
   ]
  },
  {
   "cell_type": "code",
   "execution_count": 23,
   "id": "28f84505",
   "metadata": {},
   "outputs": [
    {
     "name": "stdout",
     "output_type": "stream",
     "text": [
      "ABC\n"
     ]
    }
   ],
   "source": [
    "print('ABC')"
   ]
  },
  {
   "cell_type": "code",
   "execution_count": 24,
   "id": "e419c3f0",
   "metadata": {},
   "outputs": [
    {
     "name": "stdout",
     "output_type": "stream",
     "text": [
      "ABC\n"
     ]
    }
   ],
   "source": [
    "print(\"ABC\")"
   ]
  },
  {
   "cell_type": "code",
   "execution_count": 25,
   "id": "2026b3e5",
   "metadata": {},
   "outputs": [
    {
     "name": "stdout",
     "output_type": "stream",
     "text": [
      "ABC 'A'\n"
     ]
    }
   ],
   "source": [
    "print(\"ABC 'A'\")"
   ]
  },
  {
   "cell_type": "code",
   "execution_count": 26,
   "id": "3656d28a",
   "metadata": {},
   "outputs": [
    {
     "name": "stdout",
     "output_type": "stream",
     "text": [
      "ABC \"\"\n"
     ]
    }
   ],
   "source": [
    "print(\"ABC \\\"\\\"\")"
   ]
  },
  {
   "cell_type": "code",
   "execution_count": 28,
   "id": "78097e4c",
   "metadata": {},
   "outputs": [
    {
     "name": "stdout",
     "output_type": "stream",
     "text": [
      "select * from table A where a = 1\n"
     ]
    }
   ],
   "source": [
    "print(\"select * from table A where a = 1\")"
   ]
  },
  {
   "cell_type": "code",
   "execution_count": 29,
   "id": "c30d87d3",
   "metadata": {},
   "outputs": [
    {
     "name": "stdout",
     "output_type": "stream",
     "text": [
      "\n",
      "    select * from table A where a = 1\n",
      "\n"
     ]
    }
   ],
   "source": [
    "print(\"\"\"\n",
    "    select * from table A where a = 1\n",
    "\"\"\")"
   ]
  },
  {
   "cell_type": "markdown",
   "id": "97627155",
   "metadata": {},
   "source": [
    "### Boolean"
   ]
  },
  {
   "cell_type": "code",
   "execution_count": 30,
   "id": "d19fb52e",
   "metadata": {},
   "outputs": [
    {
     "data": {
      "text/plain": [
       "True"
      ]
     },
     "execution_count": 30,
     "metadata": {},
     "output_type": "execute_result"
    }
   ],
   "source": [
    "True"
   ]
  },
  {
   "cell_type": "code",
   "execution_count": 31,
   "id": "560f5ba5",
   "metadata": {},
   "outputs": [
    {
     "data": {
      "text/plain": [
       "False"
      ]
     },
     "execution_count": 31,
     "metadata": {},
     "output_type": "execute_result"
    }
   ],
   "source": [
    "False"
   ]
  },
  {
   "cell_type": "code",
   "execution_count": 35,
   "id": "474090c6",
   "metadata": {},
   "outputs": [
    {
     "name": "stdout",
     "output_type": "stream",
     "text": [
      "<class 'bool'>\n"
     ]
    }
   ],
   "source": [
    "print(type(True))"
   ]
  },
  {
   "cell_type": "markdown",
   "id": "0d0a5d71",
   "metadata": {},
   "source": [
    "### Variable Assignment"
   ]
  },
  {
   "cell_type": "code",
   "execution_count": 36,
   "id": "273df136",
   "metadata": {},
   "outputs": [],
   "source": [
    "a = 100"
   ]
  },
  {
   "cell_type": "code",
   "execution_count": 37,
   "id": "ce2da7a5",
   "metadata": {},
   "outputs": [
    {
     "data": {
      "text/plain": [
       "100"
      ]
     },
     "execution_count": 37,
     "metadata": {},
     "output_type": "execute_result"
    }
   ],
   "source": [
    "a"
   ]
  },
  {
   "cell_type": "code",
   "execution_count": 38,
   "id": "b433ccba",
   "metadata": {},
   "outputs": [],
   "source": [
    "a = 105"
   ]
  },
  {
   "cell_type": "code",
   "execution_count": 39,
   "id": "6f89cddc",
   "metadata": {},
   "outputs": [
    {
     "data": {
      "text/plain": [
       "105"
      ]
     },
     "execution_count": 39,
     "metadata": {},
     "output_type": "execute_result"
    }
   ],
   "source": [
    "a"
   ]
  },
  {
   "cell_type": "code",
   "execution_count": 40,
   "id": "471047ec",
   "metadata": {},
   "outputs": [],
   "source": [
    "a += 1"
   ]
  },
  {
   "cell_type": "code",
   "execution_count": 41,
   "id": "ddea73f2",
   "metadata": {},
   "outputs": [
    {
     "data": {
      "text/plain": [
       "106"
      ]
     },
     "execution_count": 41,
     "metadata": {},
     "output_type": "execute_result"
    }
   ],
   "source": [
    "a"
   ]
  },
  {
   "cell_type": "code",
   "execution_count": 42,
   "id": "7651e6ec",
   "metadata": {},
   "outputs": [],
   "source": [
    "a = b = c = 300"
   ]
  },
  {
   "cell_type": "code",
   "execution_count": 45,
   "id": "493082fb",
   "metadata": {},
   "outputs": [
    {
     "name": "stdout",
     "output_type": "stream",
     "text": [
      "300 300 300\n"
     ]
    }
   ],
   "source": [
    "print(a,b,c)"
   ]
  },
  {
   "cell_type": "markdown",
   "id": "a4ef6da8",
   "metadata": {},
   "source": [
    "### Variable Types"
   ]
  },
  {
   "cell_type": "code",
   "execution_count": null,
   "id": "33b8ad86",
   "metadata": {},
   "outputs": [],
   "source": [
    "String x = String()\n",
    "int x;"
   ]
  },
  {
   "cell_type": "code",
   "execution_count": 47,
   "id": "b0533397",
   "metadata": {},
   "outputs": [],
   "source": [
    "x = 1"
   ]
  },
  {
   "cell_type": "code",
   "execution_count": 49,
   "id": "25bc9b8a",
   "metadata": {},
   "outputs": [
    {
     "data": {
      "text/plain": [
       "int"
      ]
     },
     "execution_count": 49,
     "metadata": {},
     "output_type": "execute_result"
    }
   ],
   "source": [
    "type(x)"
   ]
  },
  {
   "cell_type": "code",
   "execution_count": 50,
   "id": "382af20f",
   "metadata": {},
   "outputs": [],
   "source": [
    "x = \"abc\""
   ]
  },
  {
   "cell_type": "code",
   "execution_count": 51,
   "id": "b2e208a8",
   "metadata": {},
   "outputs": [
    {
     "data": {
      "text/plain": [
       "str"
      ]
     },
     "execution_count": 51,
     "metadata": {},
     "output_type": "execute_result"
    }
   ],
   "source": [
    "type(x)"
   ]
  },
  {
   "cell_type": "markdown",
   "id": "c5eae3c3",
   "metadata": {},
   "source": [
    "### Variable Naming"
   ]
  },
  {
   "cell_type": "code",
   "execution_count": 52,
   "id": "b07a88eb",
   "metadata": {},
   "outputs": [],
   "source": [
    "name = \"abraham\"\n",
    "age = 25\n",
    "has_laptops = True"
   ]
  },
  {
   "cell_type": "code",
   "execution_count": 53,
   "id": "6e6bcbd0",
   "metadata": {},
   "outputs": [
    {
     "ename": "SyntaxError",
     "evalue": "invalid token (<ipython-input-53-0d6e97cc4df5>, line 1)",
     "output_type": "error",
     "traceback": [
      "\u001b[0;36m  File \u001b[0;32m\"<ipython-input-53-0d6e97cc4df5>\"\u001b[0;36m, line \u001b[0;32m1\u001b[0m\n\u001b[0;31m    23_variable = 1\u001b[0m\n\u001b[0m      ^\u001b[0m\n\u001b[0;31mSyntaxError\u001b[0m\u001b[0;31m:\u001b[0m invalid token\n"
     ]
    }
   ],
   "source": [
    "23_variable = 1"
   ]
  },
  {
   "cell_type": "code",
   "execution_count": 54,
   "id": "8bd78e89",
   "metadata": {},
   "outputs": [],
   "source": [
    "age = 10\n",
    "Age = 11"
   ]
  },
  {
   "cell_type": "code",
   "execution_count": 55,
   "id": "232697d9",
   "metadata": {},
   "outputs": [
    {
     "name": "stdout",
     "output_type": "stream",
     "text": [
      "10 11\n"
     ]
    }
   ],
   "source": [
    "print(age, Age)"
   ]
  },
  {
   "cell_type": "code",
   "execution_count": null,
   "id": "79b18578",
   "metadata": {},
   "outputs": [],
   "source": [
    "### Camel Case\n",
    "numberOfStudents\n",
    "\n",
    "### Pascal Case\n",
    "NumberOfStudents\n",
    "\n",
    "### Snake Case\n",
    "number_of_students"
   ]
  },
  {
   "cell_type": "markdown",
   "id": "45f0740c",
   "metadata": {},
   "source": [
    "### Operators and Expressions in Python"
   ]
  },
  {
   "cell_type": "code",
   "execution_count": 56,
   "id": "e58d8951",
   "metadata": {},
   "outputs": [],
   "source": [
    "a = 10\n",
    "b = 20"
   ]
  },
  {
   "cell_type": "code",
   "execution_count": 57,
   "id": "f1596cf5",
   "metadata": {},
   "outputs": [
    {
     "data": {
      "text/plain": [
       "30"
      ]
     },
     "execution_count": 57,
     "metadata": {},
     "output_type": "execute_result"
    }
   ],
   "source": [
    "a + b"
   ]
  },
  {
   "cell_type": "code",
   "execution_count": 58,
   "id": "9994a14c",
   "metadata": {},
   "outputs": [
    {
     "data": {
      "text/plain": [
       "25"
      ]
     },
     "execution_count": 58,
     "metadata": {},
     "output_type": "execute_result"
    }
   ],
   "source": [
    "a + b - 5"
   ]
  },
  {
   "cell_type": "code",
   "execution_count": 59,
   "id": "8f98a489",
   "metadata": {},
   "outputs": [
    {
     "name": "stdout",
     "output_type": "stream",
     "text": [
      "30\n",
      "-10\n",
      "200\n",
      "0.5\n",
      "10\n",
      "100000000000000000000\n"
     ]
    }
   ],
   "source": [
    "print(a + b)\n",
    "print(a - b)\n",
    "print(a * b)\n",
    "print(a / b)\n",
    "print(a % b)\n",
    "print(a ** b)"
   ]
  },
  {
   "cell_type": "code",
   "execution_count": 60,
   "id": "306e9512",
   "metadata": {},
   "outputs": [
    {
     "data": {
      "text/plain": [
       "2.0"
      ]
     },
     "execution_count": 60,
     "metadata": {},
     "output_type": "execute_result"
    }
   ],
   "source": [
    "10 / 5"
   ]
  },
  {
   "cell_type": "code",
   "execution_count": 63,
   "id": "da82a188",
   "metadata": {},
   "outputs": [
    {
     "data": {
      "text/plain": [
       "2"
      ]
     },
     "execution_count": 63,
     "metadata": {},
     "output_type": "execute_result"
    }
   ],
   "source": [
    "5 // 2"
   ]
  },
  {
   "cell_type": "code",
   "execution_count": 64,
   "id": "3e606843",
   "metadata": {},
   "outputs": [
    {
     "data": {
      "text/plain": [
       "2.5"
      ]
     },
     "execution_count": 64,
     "metadata": {},
     "output_type": "execute_result"
    }
   ],
   "source": [
    "5 / 2"
   ]
  },
  {
   "cell_type": "code",
   "execution_count": 67,
   "id": "6c3d3a07",
   "metadata": {},
   "outputs": [
    {
     "data": {
      "text/plain": [
       "3"
      ]
     },
     "execution_count": 67,
     "metadata": {},
     "output_type": "execute_result"
    }
   ],
   "source": [
    "round(2.51)"
   ]
  },
  {
   "cell_type": "markdown",
   "id": "2bfc216e",
   "metadata": {},
   "source": [
    "### Comparisons"
   ]
  },
  {
   "cell_type": "code",
   "execution_count": 68,
   "id": "d53a6ed7",
   "metadata": {},
   "outputs": [],
   "source": [
    "a = 10\n",
    "b = 20"
   ]
  },
  {
   "cell_type": "code",
   "execution_count": 69,
   "id": "27488615",
   "metadata": {},
   "outputs": [
    {
     "name": "stdout",
     "output_type": "stream",
     "text": [
      "False\n"
     ]
    }
   ],
   "source": [
    "print(a==b)"
   ]
  },
  {
   "cell_type": "code",
   "execution_count": 70,
   "id": "45ab6d81",
   "metadata": {},
   "outputs": [
    {
     "name": "stdout",
     "output_type": "stream",
     "text": [
      "True\n",
      "False\n",
      "True\n"
     ]
    }
   ],
   "source": [
    "print(a!=b)\n",
    "print(a>=b)\n",
    "print(a<=b)"
   ]
  },
  {
   "cell_type": "markdown",
   "id": "b3bc0486",
   "metadata": {},
   "source": [
    "### String Manipulation"
   ]
  },
  {
   "cell_type": "code",
   "execution_count": 73,
   "id": "5f36c92d",
   "metadata": {},
   "outputs": [],
   "source": [
    "s = 'foo'\n",
    "t = 'bar'\n",
    "u = 'baz'\n",
    "v = 1"
   ]
  },
  {
   "cell_type": "code",
   "execution_count": 72,
   "id": "7aab2001",
   "metadata": {},
   "outputs": [
    {
     "data": {
      "text/plain": [
       "'foobarbaz'"
      ]
     },
     "execution_count": 72,
     "metadata": {},
     "output_type": "execute_result"
    }
   ],
   "source": [
    "s + t + u"
   ]
  },
  {
   "cell_type": "code",
   "execution_count": 76,
   "id": "d6604d86",
   "metadata": {},
   "outputs": [
    {
     "data": {
      "text/plain": [
       "'baz1'"
      ]
     },
     "execution_count": 76,
     "metadata": {},
     "output_type": "execute_result"
    }
   ],
   "source": [
    "u + str(v)"
   ]
  },
  {
   "cell_type": "code",
   "execution_count": 77,
   "id": "082cc318",
   "metadata": {},
   "outputs": [
    {
     "data": {
      "text/plain": [
       "'foo bar baz'"
      ]
     },
     "execution_count": 77,
     "metadata": {},
     "output_type": "execute_result"
    }
   ],
   "source": [
    "\"{} {} {}\".format(s,t,u)"
   ]
  },
  {
   "cell_type": "code",
   "execution_count": 80,
   "id": "8817df5e",
   "metadata": {},
   "outputs": [
    {
     "data": {
      "text/plain": [
       "'Hasil sales bulan foo adalah baz'"
      ]
     },
     "execution_count": 80,
     "metadata": {},
     "output_type": "execute_result"
    }
   ],
   "source": [
    "\"Hasil sales bulan {month} adalah {sales_amount}\".format(month=s,sales_amount=u)"
   ]
  },
  {
   "cell_type": "code",
   "execution_count": 79,
   "id": "04679bba",
   "metadata": {},
   "outputs": [
    {
     "data": {
      "text/plain": [
       "'Hasil sales bulan foo adalah baz'"
      ]
     },
     "execution_count": 79,
     "metadata": {},
     "output_type": "execute_result"
    }
   ],
   "source": [
    "f\"Hasil sales bulan {month} adalah {sales_month}\""
   ]
  },
  {
   "cell_type": "code",
   "execution_count": 81,
   "id": "1dcd3383",
   "metadata": {},
   "outputs": [
    {
     "data": {
      "text/plain": [
       "'foofoofoofoo'"
      ]
     },
     "execution_count": 81,
     "metadata": {},
     "output_type": "execute_result"
    }
   ],
   "source": [
    "s * 4"
   ]
  },
  {
   "cell_type": "code",
   "execution_count": 84,
   "id": "d659a220",
   "metadata": {},
   "outputs": [
    {
     "data": {
      "text/plain": [
       "True"
      ]
     },
     "execution_count": 84,
     "metadata": {},
     "output_type": "execute_result"
    }
   ],
   "source": [
    "taman = \"Taman\"\n",
    "taman in \"Mall Taman Anggrek\""
   ]
  },
  {
   "cell_type": "code",
   "execution_count": 85,
   "id": "6a7fa1a2",
   "metadata": {},
   "outputs": [],
   "source": [
    "s = \"hacktiv8\""
   ]
  },
  {
   "cell_type": "code",
   "execution_count": 86,
   "id": "d3a44b2d",
   "metadata": {},
   "outputs": [
    {
     "data": {
      "text/plain": [
       "'Hacktiv8'"
      ]
     },
     "execution_count": 86,
     "metadata": {},
     "output_type": "execute_result"
    }
   ],
   "source": [
    "s.capitalize()"
   ]
  },
  {
   "cell_type": "code",
   "execution_count": 87,
   "id": "1031c000",
   "metadata": {},
   "outputs": [
    {
     "data": {
      "text/plain": [
       "'hacktiv8'"
      ]
     },
     "execution_count": 87,
     "metadata": {},
     "output_type": "execute_result"
    }
   ],
   "source": [
    "\"HACKTIV8\".lower()"
   ]
  },
  {
   "cell_type": "code",
   "execution_count": 88,
   "id": "77fc30e9",
   "metadata": {},
   "outputs": [
    {
     "data": {
      "text/plain": [
       "'raja raja'"
      ]
     },
     "execution_count": 88,
     "metadata": {},
     "output_type": "execute_result"
    }
   ],
   "source": [
    "\"raja Raja\".lower()"
   ]
  },
  {
   "cell_type": "code",
   "execution_count": 89,
   "id": "5fd6fa45",
   "metadata": {},
   "outputs": [
    {
     "data": {
      "text/plain": [
       "'hACKTIV8'"
      ]
     },
     "execution_count": 89,
     "metadata": {},
     "output_type": "execute_result"
    }
   ],
   "source": [
    "\"Hacktiv8\".swapcase()"
   ]
  },
  {
   "cell_type": "code",
   "execution_count": 91,
   "id": "a2760d2a",
   "metadata": {},
   "outputs": [
    {
     "data": {
      "text/plain": [
       "'Ibu Kita Kartini'"
      ]
     },
     "execution_count": 91,
     "metadata": {},
     "output_type": "execute_result"
    }
   ],
   "source": [
    "\"ibu kita kartini\".title()"
   ]
  },
  {
   "cell_type": "markdown",
   "id": "6761b33e",
   "metadata": {},
   "source": [
    "### Python List"
   ]
  },
  {
   "cell_type": "code",
   "execution_count": 92,
   "id": "49c9225d",
   "metadata": {},
   "outputs": [],
   "source": [
    "a = ['foo','bar','baz']"
   ]
  },
  {
   "cell_type": "code",
   "execution_count": 93,
   "id": "15bd103f",
   "metadata": {},
   "outputs": [
    {
     "data": {
      "text/plain": [
       "['foo', 'bar', 'baz']"
      ]
     },
     "execution_count": 93,
     "metadata": {},
     "output_type": "execute_result"
    }
   ],
   "source": [
    "a"
   ]
  },
  {
   "cell_type": "code",
   "execution_count": 94,
   "id": "41d2de0a",
   "metadata": {},
   "outputs": [
    {
     "data": {
      "text/plain": [
       "list"
      ]
     },
     "execution_count": 94,
     "metadata": {},
     "output_type": "execute_result"
    }
   ],
   "source": [
    "type(a)"
   ]
  },
  {
   "cell_type": "code",
   "execution_count": 95,
   "id": "26c84a4c",
   "metadata": {},
   "outputs": [],
   "source": [
    "b = ['bar','foo','baz']"
   ]
  },
  {
   "cell_type": "code",
   "execution_count": 96,
   "id": "b8fe5185",
   "metadata": {},
   "outputs": [
    {
     "data": {
      "text/plain": [
       "False"
      ]
     },
     "execution_count": 96,
     "metadata": {},
     "output_type": "execute_result"
    }
   ],
   "source": [
    "a == b"
   ]
  },
  {
   "cell_type": "code",
   "execution_count": 97,
   "id": "513443df",
   "metadata": {},
   "outputs": [],
   "source": [
    "a = [21, \"abc\", 20.3, False, [1,23]]"
   ]
  },
  {
   "cell_type": "code",
   "execution_count": 98,
   "id": "c2bfb44b",
   "metadata": {},
   "outputs": [
    {
     "data": {
      "text/plain": [
       "[21, 'abc', 20.3, False, [1, 23]]"
      ]
     },
     "execution_count": 98,
     "metadata": {},
     "output_type": "execute_result"
    }
   ],
   "source": [
    "a"
   ]
  },
  {
   "cell_type": "code",
   "execution_count": 99,
   "id": "9244f435",
   "metadata": {},
   "outputs": [
    {
     "data": {
      "text/plain": [
       "['bar', 'foo', 'baz']"
      ]
     },
     "execution_count": 99,
     "metadata": {},
     "output_type": "execute_result"
    }
   ],
   "source": [
    "b"
   ]
  },
  {
   "cell_type": "code",
   "execution_count": 101,
   "id": "043a44d1",
   "metadata": {},
   "outputs": [
    {
     "data": {
      "text/plain": [
       "('bar', 'foo', 'baz')"
      ]
     },
     "execution_count": 101,
     "metadata": {},
     "output_type": "execute_result"
    }
   ],
   "source": [
    "b[0],b[1],b[2]"
   ]
  },
  {
   "cell_type": "code",
   "execution_count": 103,
   "id": "635e0003",
   "metadata": {},
   "outputs": [
    {
     "data": {
      "text/plain": [
       "('baz', 'foo', 'bar')"
      ]
     },
     "execution_count": 103,
     "metadata": {},
     "output_type": "execute_result"
    }
   ],
   "source": [
    "b[-1],b[-2],b[-3]"
   ]
  },
  {
   "cell_type": "code",
   "execution_count": 105,
   "id": "e7cb4e0b",
   "metadata": {},
   "outputs": [
    {
     "data": {
      "text/plain": [
       "['bar']"
      ]
     },
     "execution_count": 105,
     "metadata": {},
     "output_type": "execute_result"
    }
   ],
   "source": [
    "b[0:1]"
   ]
  },
  {
   "cell_type": "code",
   "execution_count": 106,
   "id": "f7305384",
   "metadata": {},
   "outputs": [
    {
     "data": {
      "text/plain": [
       "['bar', 'foo']"
      ]
     },
     "execution_count": 106,
     "metadata": {},
     "output_type": "execute_result"
    }
   ],
   "source": [
    "b[0:2]"
   ]
  },
  {
   "cell_type": "code",
   "execution_count": 108,
   "id": "a63177f2",
   "metadata": {},
   "outputs": [
    {
     "name": "stdout",
     "output_type": "stream",
     "text": [
      "['bar', 'foo', 'baz']\n",
      "['bar', 'foo', 'baz', 'xy', 'zx']\n",
      "['bar', 'foo', 'baz', 'bar', 'foo', 'baz']\n"
     ]
    }
   ],
   "source": [
    "print(b)\n",
    "print(b + ['xy','zx'])\n",
    "print(b * 2)"
   ]
  },
  {
   "cell_type": "code",
   "execution_count": 109,
   "id": "e87e4d08",
   "metadata": {},
   "outputs": [
    {
     "name": "stdout",
     "output_type": "stream",
     "text": [
      "['bar', 'foo', 'baz']\n",
      "3\n",
      "foo\n",
      "bar\n"
     ]
    }
   ],
   "source": [
    "print(b)\n",
    "print(len(b))\n",
    "print(max(b))\n",
    "print(min(b))"
   ]
  },
  {
   "cell_type": "code",
   "execution_count": 110,
   "id": "b65739ab",
   "metadata": {},
   "outputs": [
    {
     "data": {
      "text/plain": [
       "'ab'"
      ]
     },
     "execution_count": 110,
     "metadata": {},
     "output_type": "execute_result"
    }
   ],
   "source": [
    "\"abcde\"[0:2]"
   ]
  },
  {
   "cell_type": "code",
   "execution_count": 111,
   "id": "aaa529f3",
   "metadata": {},
   "outputs": [
    {
     "data": {
      "text/plain": [
       "'e'"
      ]
     },
     "execution_count": 111,
     "metadata": {},
     "output_type": "execute_result"
    }
   ],
   "source": [
    "\"abcde\"[-1]"
   ]
  },
  {
   "cell_type": "code",
   "execution_count": 112,
   "id": "c21a0f65",
   "metadata": {},
   "outputs": [
    {
     "data": {
      "text/plain": [
       "['bar', 'foo', 'baz']"
      ]
     },
     "execution_count": 112,
     "metadata": {},
     "output_type": "execute_result"
    }
   ],
   "source": [
    "b"
   ]
  },
  {
   "cell_type": "code",
   "execution_count": 113,
   "id": "208d9581",
   "metadata": {},
   "outputs": [],
   "source": [
    "b[1] = 'x'"
   ]
  },
  {
   "cell_type": "code",
   "execution_count": 114,
   "id": "d73b88fa",
   "metadata": {},
   "outputs": [
    {
     "data": {
      "text/plain": [
       "['bar', 'x', 'baz']"
      ]
     },
     "execution_count": 114,
     "metadata": {},
     "output_type": "execute_result"
    }
   ],
   "source": [
    "b"
   ]
  },
  {
   "cell_type": "code",
   "execution_count": 115,
   "id": "11e82182",
   "metadata": {},
   "outputs": [],
   "source": [
    "b[-1] = 'y'"
   ]
  },
  {
   "cell_type": "code",
   "execution_count": 116,
   "id": "5fecfbeb",
   "metadata": {},
   "outputs": [
    {
     "data": {
      "text/plain": [
       "['bar', 'x', 'y']"
      ]
     },
     "execution_count": 116,
     "metadata": {},
     "output_type": "execute_result"
    }
   ],
   "source": [
    "b"
   ]
  },
  {
   "cell_type": "code",
   "execution_count": 117,
   "id": "f0f88947",
   "metadata": {},
   "outputs": [],
   "source": [
    "del b[1]"
   ]
  },
  {
   "cell_type": "code",
   "execution_count": 118,
   "id": "866ec7a6",
   "metadata": {},
   "outputs": [
    {
     "data": {
      "text/plain": [
       "['bar', 'y']"
      ]
     },
     "execution_count": 118,
     "metadata": {},
     "output_type": "execute_result"
    }
   ],
   "source": [
    "b"
   ]
  },
  {
   "cell_type": "code",
   "execution_count": 119,
   "id": "05cb6fba",
   "metadata": {},
   "outputs": [
    {
     "name": "stdout",
     "output_type": "stream",
     "text": [
      "['bar', 'baz', 'qux']\n"
     ]
    }
   ],
   "source": [
    "a = ['foo', 'bar', 'baz', 'qux', 'quux', 'corge']\n",
    "\n",
    "print(a[1:4])"
   ]
  },
  {
   "cell_type": "code",
   "execution_count": 120,
   "id": "435073db",
   "metadata": {},
   "outputs": [],
   "source": [
    "a[1:4] = [1.1,2.2,3.3,4.4,5.5]"
   ]
  },
  {
   "cell_type": "code",
   "execution_count": 121,
   "id": "9d8cf60b",
   "metadata": {},
   "outputs": [
    {
     "data": {
      "text/plain": [
       "['foo', 1.1, 2.2, 3.3, 4.4, 5.5, 'quux', 'corge']"
      ]
     },
     "execution_count": 121,
     "metadata": {},
     "output_type": "execute_result"
    }
   ],
   "source": [
    "a"
   ]
  },
  {
   "cell_type": "code",
   "execution_count": 123,
   "id": "18f255bb",
   "metadata": {},
   "outputs": [
    {
     "data": {
      "text/plain": [
       "[1, 2, 3]"
      ]
     },
     "execution_count": 123,
     "metadata": {},
     "output_type": "execute_result"
    }
   ],
   "source": [
    "eval(\"[1,2,3]\")"
   ]
  },
  {
   "cell_type": "code",
   "execution_count": 124,
   "id": "ca9d0a40",
   "metadata": {},
   "outputs": [
    {
     "data": {
      "text/plain": [
       "str"
      ]
     },
     "execution_count": 124,
     "metadata": {},
     "output_type": "execute_result"
    }
   ],
   "source": [
    "type(\"[1,2,3]\")"
   ]
  },
  {
   "cell_type": "code",
   "execution_count": 125,
   "id": "a3d17542",
   "metadata": {},
   "outputs": [
    {
     "data": {
      "text/plain": [
       "list"
      ]
     },
     "execution_count": 125,
     "metadata": {},
     "output_type": "execute_result"
    }
   ],
   "source": [
    "type(eval(\"[1,2,3]\"))"
   ]
  },
  {
   "cell_type": "markdown",
   "id": "85d089a0",
   "metadata": {},
   "source": [
    "### Tuples"
   ]
  },
  {
   "cell_type": "code",
   "execution_count": 126,
   "id": "2cd9f33c",
   "metadata": {},
   "outputs": [],
   "source": [
    "tup = ('a','b','c')"
   ]
  },
  {
   "cell_type": "code",
   "execution_count": 127,
   "id": "7cfbf116",
   "metadata": {},
   "outputs": [
    {
     "data": {
      "text/plain": [
       "('a', 'b', 'c')"
      ]
     },
     "execution_count": 127,
     "metadata": {},
     "output_type": "execute_result"
    }
   ],
   "source": [
    "tup"
   ]
  },
  {
   "cell_type": "code",
   "execution_count": 129,
   "id": "73729160",
   "metadata": {},
   "outputs": [
    {
     "data": {
      "text/plain": [
       "tuple"
      ]
     },
     "execution_count": 129,
     "metadata": {},
     "output_type": "execute_result"
    }
   ],
   "source": [
    "type(tup)"
   ]
  },
  {
   "cell_type": "code",
   "execution_count": 131,
   "id": "bbb279e5",
   "metadata": {},
   "outputs": [
    {
     "data": {
      "text/plain": [
       "'a'"
      ]
     },
     "execution_count": 131,
     "metadata": {},
     "output_type": "execute_result"
    }
   ],
   "source": [
    "tup[0]"
   ]
  },
  {
   "cell_type": "code",
   "execution_count": 132,
   "id": "a870ef47",
   "metadata": {},
   "outputs": [
    {
     "data": {
      "text/plain": [
       "'c'"
      ]
     },
     "execution_count": 132,
     "metadata": {},
     "output_type": "execute_result"
    }
   ],
   "source": [
    "tup[-1]"
   ]
  },
  {
   "cell_type": "code",
   "execution_count": 133,
   "id": "32223546",
   "metadata": {},
   "outputs": [],
   "source": [
    "### Unpacking variables\n",
    "\n",
    "(s1,s2,s3) = tup"
   ]
  },
  {
   "cell_type": "code",
   "execution_count": 136,
   "id": "c8659066",
   "metadata": {},
   "outputs": [
    {
     "data": {
      "text/plain": [
       "'a'"
      ]
     },
     "execution_count": 136,
     "metadata": {},
     "output_type": "execute_result"
    }
   ],
   "source": [
    "s1"
   ]
  },
  {
   "cell_type": "code",
   "execution_count": 137,
   "id": "1d684276",
   "metadata": {},
   "outputs": [
    {
     "data": {
      "text/plain": [
       "'b'"
      ]
     },
     "execution_count": 137,
     "metadata": {},
     "output_type": "execute_result"
    }
   ],
   "source": [
    "s2"
   ]
  },
  {
   "cell_type": "code",
   "execution_count": 138,
   "id": "9bbc3707",
   "metadata": {},
   "outputs": [
    {
     "data": {
      "text/plain": [
       "'c'"
      ]
     },
     "execution_count": 138,
     "metadata": {},
     "output_type": "execute_result"
    }
   ],
   "source": [
    "s3"
   ]
  },
  {
   "cell_type": "markdown",
   "id": "d0c917dc",
   "metadata": {},
   "source": [
    "### Dictionary"
   ]
  },
  {
   "cell_type": "code",
   "execution_count": 143,
   "id": "aaf4fe7b",
   "metadata": {},
   "outputs": [],
   "source": [
    "data = {\n",
    "    \"name\":\"Bram\",\n",
    "    \"occupation\": \"Data Scientist\",\n",
    "    \"order_frequency\": [1,2,3],\n",
    "    \"transcation_id\": 123\n",
    "}"
   ]
  },
  {
   "cell_type": "code",
   "execution_count": 142,
   "id": "24b28f38",
   "metadata": {},
   "outputs": [],
   "source": [
    "list_data = [{\n",
    "    \"name\":\"Bram\",\n",
    "    \"occupation\": \"Data Scientist\",\n",
    "    \"order_frequency\": [1,2,3],\n",
    "    \"transcation_id\": 123\n",
    "},\n",
    "{\n",
    "    \"name\":\"Andi\",\n",
    "    \"occupation\": \"Data Engineer\",\n",
    "    \"order_frequency\": [1,3,4],\n",
    "    \"transcation_id\": 124\n",
    "}\n",
    "]"
   ]
  },
  {
   "cell_type": "code",
   "execution_count": 141,
   "id": "a65b689c",
   "metadata": {},
   "outputs": [
    {
     "data": {
      "text/plain": [
       "[{'name': 'Bram',\n",
       "  'occupation': 'Data Scientist',\n",
       "  'order_frequency': [1, 2, 3],\n",
       "  'transcation_id': 123},\n",
       " {'name': 'Andi',\n",
       "  'occupation': 'Data Engineer',\n",
       "  'order_frequency': [1, 3, 4],\n",
       "  'transcation_id': 124}]"
      ]
     },
     "execution_count": 141,
     "metadata": {},
     "output_type": "execute_result"
    }
   ],
   "source": [
    "data"
   ]
  },
  {
   "cell_type": "code",
   "execution_count": 144,
   "id": "52a874dd",
   "metadata": {},
   "outputs": [
    {
     "data": {
      "text/plain": [
       "'Bram'"
      ]
     },
     "execution_count": 144,
     "metadata": {},
     "output_type": "execute_result"
    }
   ],
   "source": [
    "data[\"name\"]"
   ]
  },
  {
   "cell_type": "code",
   "execution_count": 146,
   "id": "6883950d",
   "metadata": {},
   "outputs": [],
   "source": [
    "data[\"gender\"] = 'M'"
   ]
  },
  {
   "cell_type": "code",
   "execution_count": 147,
   "id": "f1c83ef5",
   "metadata": {},
   "outputs": [
    {
     "data": {
      "text/plain": [
       "{'name': 'Bram',\n",
       " 'occupation': 'Data Scientist',\n",
       " 'order_frequency': [1, 2, 3],\n",
       " 'transcation_id': 123,\n",
       " 'gender': 'M'}"
      ]
     },
     "execution_count": 147,
     "metadata": {},
     "output_type": "execute_result"
    }
   ],
   "source": [
    "data"
   ]
  },
  {
   "cell_type": "code",
   "execution_count": 148,
   "id": "e81da807",
   "metadata": {},
   "outputs": [],
   "source": [
    "data['company'] = {\n",
    "    \"company_name\": \"PT Anugrah Indah\",\n",
    "    \"industry_type\": \"Manufacturing\"\n",
    "}"
   ]
  },
  {
   "cell_type": "code",
   "execution_count": 149,
   "id": "c384e158",
   "metadata": {},
   "outputs": [
    {
     "data": {
      "text/plain": [
       "{'name': 'Bram',\n",
       " 'occupation': 'Data Scientist',\n",
       " 'order_frequency': [1, 2, 3],\n",
       " 'transcation_id': 123,\n",
       " 'gender': 'M',\n",
       " 'company': {'company_name': 'PT Anugrah Indah',\n",
       "  'industry_type': 'Manufacturing'}}"
      ]
     },
     "execution_count": 149,
     "metadata": {},
     "output_type": "execute_result"
    }
   ],
   "source": [
    "data"
   ]
  },
  {
   "cell_type": "code",
   "execution_count": 150,
   "id": "4befbfdb",
   "metadata": {},
   "outputs": [],
   "source": [
    "data[\"name\"] = \"Abraham\""
   ]
  },
  {
   "cell_type": "code",
   "execution_count": 151,
   "id": "5d83466a",
   "metadata": {},
   "outputs": [
    {
     "data": {
      "text/plain": [
       "{'name': 'Abraham',\n",
       " 'occupation': 'Data Scientist',\n",
       " 'order_frequency': [1, 2, 3],\n",
       " 'transcation_id': 123,\n",
       " 'gender': 'M',\n",
       " 'company': {'company_name': 'PT Anugrah Indah',\n",
       "  'industry_type': 'Manufacturing'}}"
      ]
     },
     "execution_count": 151,
     "metadata": {},
     "output_type": "execute_result"
    }
   ],
   "source": [
    "data"
   ]
  },
  {
   "cell_type": "code",
   "execution_count": 152,
   "id": "1b1ece3e",
   "metadata": {},
   "outputs": [],
   "source": [
    "del data[\"occupation\"]"
   ]
  },
  {
   "cell_type": "code",
   "execution_count": 153,
   "id": "08b93b9e",
   "metadata": {},
   "outputs": [
    {
     "data": {
      "text/plain": [
       "{'name': 'Abraham',\n",
       " 'order_frequency': [1, 2, 3],\n",
       " 'transcation_id': 123,\n",
       " 'gender': 'M',\n",
       " 'company': {'company_name': 'PT Anugrah Indah',\n",
       "  'industry_type': 'Manufacturing'}}"
      ]
     },
     "execution_count": 153,
     "metadata": {},
     "output_type": "execute_result"
    }
   ],
   "source": [
    "data"
   ]
  },
  {
   "cell_type": "code",
   "execution_count": null,
   "id": "9adbc0ef",
   "metadata": {},
   "outputs": [],
   "source": [
    "### name,id,sales_amount\n",
    "### abrahan,1,100000\n",
    "### aziz,2,2000"
   ]
  },
  {
   "cell_type": "code",
   "execution_count": 154,
   "id": "83d8cca0",
   "metadata": {},
   "outputs": [],
   "source": [
    "record = {}\n",
    "record['name'] = 'aziz'\n",
    "record['id'] = 2\n",
    "record['amount'] = 100000"
   ]
  },
  {
   "cell_type": "code",
   "execution_count": 155,
   "id": "52173852",
   "metadata": {},
   "outputs": [
    {
     "data": {
      "text/plain": [
       "{'name': 'aziz', 'id': 2, 'amount': 100000}"
      ]
     },
     "execution_count": 155,
     "metadata": {},
     "output_type": "execute_result"
    }
   ],
   "source": [
    "record"
   ]
  },
  {
   "cell_type": "code",
   "execution_count": 158,
   "id": "a0fb07cf",
   "metadata": {},
   "outputs": [
    {
     "data": {
      "text/plain": [
       "2"
      ]
     },
     "execution_count": 158,
     "metadata": {},
     "output_type": "execute_result"
    }
   ],
   "source": [
    "data['order_frequency'][1]"
   ]
  },
  {
   "cell_type": "code",
   "execution_count": 159,
   "id": "c2b1018e",
   "metadata": {},
   "outputs": [
    {
     "data": {
      "text/plain": [
       "'PT Anugrah Indah'"
      ]
     },
     "execution_count": 159,
     "metadata": {},
     "output_type": "execute_result"
    }
   ],
   "source": [
    "data['company']['company_name']"
   ]
  },
  {
   "cell_type": "code",
   "execution_count": 160,
   "id": "b2cfb28d",
   "metadata": {},
   "outputs": [
    {
     "data": {
      "text/plain": [
       "{'name': 'Abraham',\n",
       " 'order_frequency': [1, 2, 3],\n",
       " 'transcation_id': 123,\n",
       " 'gender': 'M',\n",
       " 'company': {'company_name': 'PT Anugrah Indah',\n",
       "  'industry_type': 'Manufacturing'}}"
      ]
     },
     "execution_count": 160,
     "metadata": {},
     "output_type": "execute_result"
    }
   ],
   "source": [
    "data"
   ]
  },
  {
   "cell_type": "code",
   "execution_count": 164,
   "id": "6cd814de",
   "metadata": {},
   "outputs": [
    {
     "data": {
      "text/plain": [
       "dict_items([('name', 'Abraham'), ('order_frequency', [1, 2, 3]), ('transcation_id', 123), ('gender', 'M'), ('company', {'company_name': 'PT Anugrah Indah', 'industry_type': 'Manufacturing'})])"
      ]
     },
     "execution_count": 164,
     "metadata": {},
     "output_type": "execute_result"
    }
   ],
   "source": [
    "data.items()"
   ]
  },
  {
   "cell_type": "code",
   "execution_count": 165,
   "id": "bda5b1ec",
   "metadata": {},
   "outputs": [
    {
     "name": "stdout",
     "output_type": "stream",
     "text": [
      "('name', 'Abraham')\n",
      "('order_frequency', [1, 2, 3])\n",
      "('transcation_id', 123)\n",
      "('gender', 'M')\n",
      "('company', {'company_name': 'PT Anugrah Indah', 'industry_type': 'Manufacturing'})\n"
     ]
    }
   ],
   "source": [
    "for x in data.items():\n",
    "    print(x)"
   ]
  },
  {
   "cell_type": "code",
   "execution_count": 166,
   "id": "ae2d42c5",
   "metadata": {},
   "outputs": [
    {
     "data": {
      "text/plain": [
       "dict_keys(['name', 'order_frequency', 'transcation_id', 'gender', 'company'])"
      ]
     },
     "execution_count": 166,
     "metadata": {},
     "output_type": "execute_result"
    }
   ],
   "source": [
    "data.keys()"
   ]
  },
  {
   "cell_type": "code",
   "execution_count": 167,
   "id": "bf0bf9d6",
   "metadata": {},
   "outputs": [
    {
     "data": {
      "text/plain": [
       "dict_values(['Abraham', [1, 2, 3], 123, 'M', {'company_name': 'PT Anugrah Indah', 'industry_type': 'Manufacturing'}])"
      ]
     },
     "execution_count": 167,
     "metadata": {},
     "output_type": "execute_result"
    }
   ],
   "source": [
    "data.values()"
   ]
  },
  {
   "cell_type": "code",
   "execution_count": 171,
   "id": "dbf33235",
   "metadata": {},
   "outputs": [],
   "source": [
    "bag_of_words = {}"
   ]
  },
  {
   "cell_type": "code",
   "execution_count": 172,
   "id": "0f4bcc8a",
   "metadata": {},
   "outputs": [],
   "source": [
    "\"saya adalah anak kedua dari tiga bersaudara. kami tinggal di tiga tempat ...\"\n",
    "bag_of_words[\"tiga\"] = 3"
   ]
  },
  {
   "cell_type": "code",
   "execution_count": 173,
   "id": "c9c52c15",
   "metadata": {},
   "outputs": [],
   "source": [
    "bag_of_words[\"tiga\"] += 1"
   ]
  },
  {
   "cell_type": "code",
   "execution_count": 174,
   "id": "730a31ca",
   "metadata": {},
   "outputs": [
    {
     "data": {
      "text/plain": [
       "{'tiga': 4}"
      ]
     },
     "execution_count": 174,
     "metadata": {},
     "output_type": "execute_result"
    }
   ],
   "source": [
    "bag_of_words"
   ]
  },
  {
   "cell_type": "code",
   "execution_count": 177,
   "id": "c47095ff",
   "metadata": {},
   "outputs": [],
   "source": [
    "from collections import defaultdict"
   ]
  },
  {
   "cell_type": "code",
   "execution_count": 179,
   "id": "5f17519f",
   "metadata": {},
   "outputs": [],
   "source": [
    "d = {}\n",
    "default_d = defaultdict(int)"
   ]
  },
  {
   "cell_type": "code",
   "execution_count": 180,
   "id": "afa1330d",
   "metadata": {},
   "outputs": [],
   "source": [
    "string = \"saya saya dua saya tiga\""
   ]
  },
  {
   "cell_type": "code",
   "execution_count": 184,
   "id": "9b901c2c",
   "metadata": {},
   "outputs": [
    {
     "name": "stdout",
     "output_type": "stream",
     "text": [
      "saya\n",
      "saya\n",
      "dua\n",
      "saya\n",
      "tiga\n"
     ]
    }
   ],
   "source": [
    "for i in string.split():\n",
    "    print(i)\n",
    "    if i not in d:\n",
    "        d[i] = 0\n",
    "    d[i] += 1"
   ]
  },
  {
   "cell_type": "code",
   "execution_count": 185,
   "id": "967b5e67",
   "metadata": {},
   "outputs": [
    {
     "data": {
      "text/plain": [
       "{'saya': 3, 'dua': 1, 'tiga': 1}"
      ]
     },
     "execution_count": 185,
     "metadata": {},
     "output_type": "execute_result"
    }
   ],
   "source": [
    "d"
   ]
  },
  {
   "cell_type": "code",
   "execution_count": 186,
   "id": "f26e1963",
   "metadata": {},
   "outputs": [],
   "source": [
    "for i in string.split():\n",
    "    default_d[i] += 1"
   ]
  },
  {
   "cell_type": "code",
   "execution_count": 187,
   "id": "9ffb32c3",
   "metadata": {},
   "outputs": [
    {
     "data": {
      "text/plain": [
       "defaultdict(int, {'saya': 3, 'dua': 1, 'tiga': 1})"
      ]
     },
     "execution_count": 187,
     "metadata": {},
     "output_type": "execute_result"
    }
   ],
   "source": [
    "default_d"
   ]
  },
  {
   "cell_type": "markdown",
   "id": "0e6b6df5",
   "metadata": {},
   "source": [
    "### Line Continuation"
   ]
  },
  {
   "cell_type": "code",
   "execution_count": 188,
   "id": "6d88d000",
   "metadata": {},
   "outputs": [],
   "source": [
    "person1_age = 42\n",
    "person2_age = 16\n",
    "person3_age = 71"
   ]
  },
  {
   "cell_type": "code",
   "execution_count": 189,
   "id": "5ea7871a",
   "metadata": {},
   "outputs": [],
   "source": [
    "someone_is_of_working_age = (person1_age >= 18 and person1_age <= 65) or (person2_age >= 18 and person2_age <= 65) or (person3_age >= 18 and person3_age <= 65)"
   ]
  },
  {
   "cell_type": "code",
   "execution_count": 190,
   "id": "77990e77",
   "metadata": {},
   "outputs": [
    {
     "data": {
      "text/plain": [
       "True"
      ]
     },
     "execution_count": 190,
     "metadata": {},
     "output_type": "execute_result"
    }
   ],
   "source": [
    "someone_is_of_working_age"
   ]
  },
  {
   "cell_type": "code",
   "execution_count": 191,
   "id": "d48d44f1",
   "metadata": {},
   "outputs": [],
   "source": [
    "someone_is_of_working_age = (\n",
    "    (person1_age >= 18 and person1_age <= 65) or \n",
    "    (person2_age >= 18 and person2_age <= 65) or \n",
    "    (person3_age >= 18 and person3_age <= 65)\n",
    ")"
   ]
  },
  {
   "cell_type": "code",
   "execution_count": 192,
   "id": "6beaf3ab",
   "metadata": {},
   "outputs": [
    {
     "data": {
      "text/plain": [
       "True"
      ]
     },
     "execution_count": 192,
     "metadata": {},
     "output_type": "execute_result"
    }
   ],
   "source": [
    "someone_is_of_working_age"
   ]
  },
  {
   "cell_type": "code",
   "execution_count": null,
   "id": "f4d01102",
   "metadata": {},
   "outputs": [],
   "source": []
  }
 ],
 "metadata": {
  "kernelspec": {
   "display_name": "h8",
   "language": "python",
   "name": "h8"
  },
  "language_info": {
   "codemirror_mode": {
    "name": "ipython",
    "version": 3
   },
   "file_extension": ".py",
   "mimetype": "text/x-python",
   "name": "python",
   "nbconvert_exporter": "python",
   "pygments_lexer": "ipython3",
   "version": "3.7.11"
  }
 },
 "nbformat": 4,
 "nbformat_minor": 5
}
