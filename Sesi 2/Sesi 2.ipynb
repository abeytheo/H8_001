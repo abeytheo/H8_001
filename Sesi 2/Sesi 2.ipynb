{
 "cells": [
  {
   "cell_type": "markdown",
<<<<<<< HEAD
   "id": "eb814fbd",
=======
   "id": "75a334d3",
>>>>>>> 3b539dd2c55b1a4267bd1f9b7b8ff36dce6917d5
   "metadata": {},
   "source": [
    "### Conditional"
   ]
  },
  {
   "cell_type": "code",
   "execution_count": 26,
<<<<<<< HEAD
   "id": "c946cdf0",
=======
   "id": "5d80ca2d",
>>>>>>> 3b539dd2c55b1a4267bd1f9b7b8ff36dce6917d5
   "metadata": {},
   "outputs": [
    {
     "data": {
      "text/plain": [
       "False"
      ]
     },
     "execution_count": 26,
     "metadata": {},
     "output_type": "execute_result"
    }
   ],
   "source": [
    "a = 1\n",
    "b = 2\n",
    "\n",
    "a == b"
   ]
  },
  {
   "cell_type": "code",
   "execution_count": 27,
<<<<<<< HEAD
   "id": "969d6971",
=======
   "id": "05b033d3",
>>>>>>> 3b539dd2c55b1a4267bd1f9b7b8ff36dce6917d5
   "metadata": {},
   "outputs": [
    {
     "data": {
      "text/plain": [
       "True"
      ]
     },
     "execution_count": 27,
     "metadata": {},
     "output_type": "execute_result"
    }
   ],
   "source": [
    "a != b"
   ]
  },
  {
   "cell_type": "code",
   "execution_count": 28,
<<<<<<< HEAD
   "id": "b5df2dea",
=======
   "id": "558a0e16",
>>>>>>> 3b539dd2c55b1a4267bd1f9b7b8ff36dce6917d5
   "metadata": {},
   "outputs": [
    {
     "data": {
      "text/plain": [
       "False"
      ]
     },
     "execution_count": 28,
     "metadata": {},
     "output_type": "execute_result"
    }
   ],
   "source": [
    "a >= b"
   ]
  },
  {
   "cell_type": "markdown",
<<<<<<< HEAD
   "id": "b62133d6",
=======
   "id": "389a656c",
>>>>>>> 3b539dd2c55b1a4267bd1f9b7b8ff36dce6917d5
   "metadata": {},
   "source": [
    "### If Statement"
   ]
  },
  {
   "cell_type": "code",
   "execution_count": 29,
<<<<<<< HEAD
   "id": "e606db66",
=======
   "id": "7b01597f",
>>>>>>> 3b539dd2c55b1a4267bd1f9b7b8ff36dce6917d5
   "metadata": {},
   "outputs": [],
   "source": [
    "if a == b:\n",
    "    print(\"Sama\")"
   ]
  },
  {
   "cell_type": "code",
   "execution_count": 31,
<<<<<<< HEAD
   "id": "4ec370d6",
=======
   "id": "1657554a",
>>>>>>> 3b539dd2c55b1a4267bd1f9b7b8ff36dce6917d5
   "metadata": {},
   "outputs": [
    {
     "name": "stdout",
     "output_type": "stream",
     "text": [
      "Tidak Sama\n"
     ]
    }
   ],
   "source": [
    "if a != b:\n",
    "    print(\"Tidak Sama\")"
   ]
  },
  {
   "cell_type": "code",
   "execution_count": 33,
<<<<<<< HEAD
   "id": "88d9dd6f",
=======
   "id": "7e7e38df",
>>>>>>> 3b539dd2c55b1a4267bd1f9b7b8ff36dce6917d5
   "metadata": {},
   "outputs": [
    {
     "name": "stdout",
     "output_type": "stream",
     "text": [
      "Sama\n",
      "Tidak Sama\n"
     ]
    }
   ],
   "source": [
    "if a != b:\n",
    "    print(\"Sama\")\n",
    "    a = 1\n",
    "    print(\"Tidak Sama\")"
   ]
  },
  {
   "cell_type": "code",
   "execution_count": 35,
<<<<<<< HEAD
   "id": "01f842f0",
=======
   "id": "695584ab",
>>>>>>> 3b539dd2c55b1a4267bd1f9b7b8ff36dce6917d5
   "metadata": {},
   "outputs": [
    {
     "name": "stdout",
     "output_type": "stream",
     "text": [
      "A\n",
      "B\n"
     ]
    }
   ],
   "source": [
    "if a != b:\n",
    "    print(\"A\")\n",
    "    if a != b:\n",
    "        print(\"B\")"
   ]
  },
  {
   "cell_type": "code",
   "execution_count": 36,
<<<<<<< HEAD
   "id": "0f828fa0",
=======
   "id": "df2eb9fa",
>>>>>>> 3b539dd2c55b1a4267bd1f9b7b8ff36dce6917d5
   "metadata": {},
   "outputs": [],
   "source": [
    "### if - else"
   ]
  },
  {
   "cell_type": "code",
   "execution_count": 40,
<<<<<<< HEAD
   "id": "17c4b5ce",
=======
   "id": "fb58b822",
>>>>>>> 3b539dd2c55b1a4267bd1f9b7b8ff36dce6917d5
   "metadata": {},
   "outputs": [
    {
     "name": "stdout",
     "output_type": "stream",
     "text": [
      "(second suite)\n",
      "x is large\n"
     ]
    }
   ],
   "source": [
    "x = 20\n",
    "\n",
    "if x > 50:\n",
    "    print('(first suite)')\n",
    "    print('x is small')\n",
    "else:\n",
    "    print('(second suite)')\n",
    "    print('x is large')"
   ]
  },
  {
   "cell_type": "code",
   "execution_count": 41,
<<<<<<< HEAD
   "id": "5ceb5960",
=======
   "id": "905026a8",
>>>>>>> 3b539dd2c55b1a4267bd1f9b7b8ff36dce6917d5
   "metadata": {},
   "outputs": [
    {
     "name": "stdout",
     "output_type": "stream",
     "text": [
      "Majalah bisa dibeli\n"
     ]
    }
   ],
   "source": [
    "harga_buku = 2000\n",
    "harga_majalah = 1000\n",
    "uang = 1500\n",
    "\n",
    "if uang > harga_buku:\n",
    "    print(\"Buku bisa terbeli\")\n",
    "elif uang > harga_majalah:\n",
    "    print(\"Majalah bisa dibeli\")\n",
    "else:\n",
    "    print(\"Tidak bisa beli apa-apa\")"
   ]
  },
  {
   "cell_type": "code",
   "execution_count": 42,
<<<<<<< HEAD
   "id": "1c886571",
=======
   "id": "760fed0b",
>>>>>>> 3b539dd2c55b1a4267bd1f9b7b8ff36dce6917d5
   "metadata": {},
   "outputs": [
    {
     "name": "stdout",
     "output_type": "stream",
     "text": [
      "Excellent\n"
     ]
    }
   ],
   "source": [
    "### 1-5\n",
    "star_rating = 5\n",
    "\n",
    "### 5 - Excellent\n",
    "### 4, 3 ,2 , 1 - Biasa Saja\n",
    "\n",
    "if star_rating == 5:\n",
    "    print(\"Excellent\")\n",
    "elif star_rating == 4:\n",
    "    print(\"Typical\")\n",
    "elif star_rating == 3:\n",
    "    print(\"Typical\")\n",
    "elif star_rating == 2:\n",
    "    print(\"Typical\")\n",
    "elif star_rating == 1:\n",
    "    print(\"Typical\")"
   ]
  },
  {
   "cell_type": "code",
   "execution_count": 43,
<<<<<<< HEAD
   "id": "5833e36e",
=======
   "id": "fcf8d900",
>>>>>>> 3b539dd2c55b1a4267bd1f9b7b8ff36dce6917d5
   "metadata": {},
   "outputs": [
    {
     "name": "stdout",
     "output_type": "stream",
     "text": [
      "Excellent\n"
     ]
    }
   ],
   "source": [
    "if star_rating == 5:\n",
    "    print(\"Excellent\")\n",
    "else:\n",
    "    print(\"Typical\")"
   ]
  },
  {
   "cell_type": "code",
   "execution_count": 45,
<<<<<<< HEAD
   "id": "8070353a",
=======
   "id": "0041b174",
>>>>>>> 3b539dd2c55b1a4267bd1f9b7b8ff36dce6917d5
   "metadata": {},
   "outputs": [],
   "source": [
    "x = None\n",
    "y = \"\"\n",
    "z = 1"
   ]
  },
  {
   "cell_type": "code",
   "execution_count": 46,
<<<<<<< HEAD
   "id": "b2dd229d",
=======
   "id": "e9952d69",
>>>>>>> 3b539dd2c55b1a4267bd1f9b7b8ff36dce6917d5
   "metadata": {},
   "outputs": [
    {
     "name": "stdout",
     "output_type": "stream",
     "text": [
      "x nya None kak\n"
     ]
    }
   ],
   "source": [
    "if x == None:\n",
    "    print(\"x nya None kak\")"
   ]
  },
  {
   "cell_type": "code",
   "execution_count": 48,
<<<<<<< HEAD
   "id": "33409444",
=======
   "id": "e7b8aac2",
>>>>>>> 3b539dd2c55b1a4267bd1f9b7b8ff36dce6917d5
   "metadata": {},
   "outputs": [
    {
     "name": "stdout",
     "output_type": "stream",
     "text": [
      "x nya None kak\n"
     ]
    }
   ],
   "source": [
    "if not x:\n",
    "    print(\"x nya None kak\")"
   ]
  },
  {
   "cell_type": "code",
   "execution_count": 49,
<<<<<<< HEAD
   "id": "ee90cbea",
=======
   "id": "64496264",
>>>>>>> 3b539dd2c55b1a4267bd1f9b7b8ff36dce6917d5
   "metadata": {},
   "outputs": [
    {
     "name": "stdout",
     "output_type": "stream",
     "text": [
      "y nya empty kak\n"
     ]
    }
   ],
   "source": [
    "if not y:\n",
    "    print(\"y nya empty kak\")"
   ]
  },
  {
   "cell_type": "code",
   "execution_count": 51,
<<<<<<< HEAD
   "id": "9b847b78",
=======
   "id": "0564f395",
>>>>>>> 3b539dd2c55b1a4267bd1f9b7b8ff36dce6917d5
   "metadata": {},
   "outputs": [
    {
     "name": "stdout",
     "output_type": "stream",
     "text": [
      "z nya 1\n"
     ]
    }
   ],
   "source": [
    "if z:\n",
    "    print(\"z nya 1\")"
   ]
  },
  {
   "cell_type": "markdown",
<<<<<<< HEAD
   "id": "83044081",
=======
   "id": "b4732476",
>>>>>>> 3b539dd2c55b1a4267bd1f9b7b8ff36dce6917d5
   "metadata": {},
   "source": [
    "### One line if statements"
   ]
  },
  {
   "cell_type": "code",
   "execution_count": 57,
<<<<<<< HEAD
   "id": "e65cd010",
=======
   "id": "67a9b6df",
>>>>>>> 3b539dd2c55b1a4267bd1f9b7b8ff36dce6917d5
   "metadata": {},
   "outputs": [
    {
     "name": "stdout",
     "output_type": "stream",
     "text": [
      "Meat is bought\n"
     ]
    }
   ],
   "source": [
    "basket = ['fish','meat','noodle']\n",
    "if 'fishx' in basket: print(\"Fish is bought\");\n",
    "elif 'meat' in basket: print(\"Meat is bought\");\n",
    "elif 'noodle' in basket: print(\"Noodle is bought\");"
   ]
  },
  {
   "cell_type": "code",
   "execution_count": 59,
<<<<<<< HEAD
   "id": "49ba31ba",
=======
   "id": "ab8a1dfb",
>>>>>>> 3b539dd2c55b1a4267bd1f9b7b8ff36dce6917d5
   "metadata": {},
   "outputs": [
    {
     "data": {
      "text/plain": [
       "'Bukan 1'"
      ]
     },
     "execution_count": 59,
     "metadata": {},
     "output_type": "execute_result"
    }
   ],
   "source": [
    "### Ternary operations\n",
    "x = 1\n",
    "\"Satu\" if x == 2 else \"Bukan 1\""
   ]
  },
  {
   "cell_type": "code",
   "execution_count": 62,
<<<<<<< HEAD
   "id": "50474c9a",
=======
   "id": "2fa740f3",
>>>>>>> 3b539dd2c55b1a4267bd1f9b7b8ff36dce6917d5
   "metadata": {},
   "outputs": [
    {
     "name": "stdout",
     "output_type": "stream",
     "text": [
      "Let's go to the beach\n"
     ]
    }
   ],
   "source": [
    "raining = False\n",
    "print(\"Let's go to the\", 'beach' if not raining else 'library')"
   ]
  },
  {
   "cell_type": "code",
   "execution_count": 63,
<<<<<<< HEAD
   "id": "4793883a",
=======
   "id": "4d65c39b",
>>>>>>> 3b539dd2c55b1a4267bd1f9b7b8ff36dce6917d5
   "metadata": {},
   "outputs": [],
   "source": [
    "age = 12\n",
    "s = 'teen' if age < 21 else 'adult'"
   ]
  },
  {
   "cell_type": "code",
   "execution_count": 64,
<<<<<<< HEAD
   "id": "97090d72",
=======
   "id": "f4b1cc51",
>>>>>>> 3b539dd2c55b1a4267bd1f9b7b8ff36dce6917d5
   "metadata": {},
   "outputs": [
    {
     "data": {
      "text/plain": [
       "'teen'"
      ]
     },
     "execution_count": 64,
     "metadata": {},
     "output_type": "execute_result"
    }
   ],
   "source": [
    "s"
   ]
  },
  {
   "cell_type": "code",
   "execution_count": 69,
<<<<<<< HEAD
   "id": "95e12e91",
=======
   "id": "2ef71417",
>>>>>>> 3b539dd2c55b1a4267bd1f9b7b8ff36dce6917d5
   "metadata": {},
   "outputs": [
    {
     "data": {
      "text/plain": [
       "'Bukan Satu atau Dua'"
      ]
     },
     "execution_count": 69,
     "metadata": {},
     "output_type": "execute_result"
    }
   ],
   "source": [
    "\"Satu\" if x == 2 else \"Dua\" if x == 2 else \"Bukan Satu atau Dua\""
   ]
  },
  {
   "cell_type": "markdown",
<<<<<<< HEAD
   "id": "76d40125",
=======
   "id": "984aedf9",
>>>>>>> 3b539dd2c55b1a4267bd1f9b7b8ff36dce6917d5
   "metadata": {},
   "source": [
    "### Python pass statement"
   ]
  },
  {
   "cell_type": "code",
   "execution_count": 74,
<<<<<<< HEAD
   "id": "d89c64f5",
=======
   "id": "7b98662f",
>>>>>>> 3b539dd2c55b1a4267bd1f9b7b8ff36dce6917d5
   "metadata": {},
   "outputs": [
    {
     "name": "stdout",
     "output_type": "stream",
     "text": [
      "\n"
     ]
    }
   ],
   "source": [
    "choice = \"Blue\"\n",
    "\n",
    "if choice == \"Blue\":\n",
    "    pass\n",
    "elif choice == \"Red\":\n",
    "    print(\"Pilihannya merah\")"
   ]
  },
  {
   "cell_type": "markdown",
<<<<<<< HEAD
   "id": "b12a281f",
=======
   "id": "4332f301",
>>>>>>> 3b539dd2c55b1a4267bd1f9b7b8ff36dce6917d5
   "metadata": {},
   "source": [
    "### Python Iteration"
   ]
  },
  {
   "cell_type": "markdown",
<<<<<<< HEAD
   "id": "5d407bdc",
=======
   "id": "a7200c3f",
>>>>>>> 3b539dd2c55b1a4267bd1f9b7b8ff36dce6917d5
   "metadata": {},
   "source": [
    "- Definite: for\n",
    "- Indefinite: while"
   ]
  },
  {
   "cell_type": "markdown",
<<<<<<< HEAD
   "id": "764402be",
=======
   "id": "b4494d41",
>>>>>>> 3b539dd2c55b1a4267bd1f9b7b8ff36dce6917d5
   "metadata": {},
   "source": [
    " #### Indefinite"
   ]
  },
  {
   "cell_type": "code",
   "execution_count": 85,
<<<<<<< HEAD
   "id": "daedf3c2",
=======
   "id": "1bee4426",
>>>>>>> 3b539dd2c55b1a4267bd1f9b7b8ff36dce6917d5
   "metadata": {},
   "outputs": [
    {
     "name": "stdout",
     "output_type": "stream",
     "text": [
      "10\n",
      "9\n",
      "8\n",
      "7\n",
      "6\n",
      "5\n",
      "4\n",
      "3\n",
      "2\n",
      "1\n"
     ]
    }
   ],
   "source": [
    "x = 10\n",
    "while x >= 1:\n",
    "    print(x)\n",
    "    x -= 1"
   ]
  },
  {
   "cell_type": "code",
   "execution_count": 86,
<<<<<<< HEAD
   "id": "db8c02f1",
=======
   "id": "187b473e",
>>>>>>> 3b539dd2c55b1a4267bd1f9b7b8ff36dce6917d5
   "metadata": {},
   "outputs": [
    {
     "name": "stdout",
     "output_type": "stream",
     "text": [
      "4\n",
      "3\n",
      "2\n",
      "1\n",
      "0\n"
     ]
    }
   ],
   "source": [
    "n = 5\n",
    "while n > 0:\n",
    "    n -= 1\n",
    "    print(n)"
   ]
  },
  {
   "cell_type": "code",
   "execution_count": 87,
<<<<<<< HEAD
   "id": "84b1ba55",
=======
   "id": "43891f5f",
>>>>>>> 3b539dd2c55b1a4267bd1f9b7b8ff36dce6917d5
   "metadata": {},
   "outputs": [
    {
     "name": "stdout",
     "output_type": "stream",
     "text": [
      "4\n",
      "3\n",
      "Loop ended.\n"
     ]
    }
   ],
   "source": [
    "n = 5\n",
    "while n > 0:\n",
    "    n -= 1\n",
    "    if n == 2:\n",
    "        break # Break Statement\n",
    "    print(n)\n",
    "print('Loop ended.')"
   ]
  },
  {
   "cell_type": "code",
   "execution_count": 88,
<<<<<<< HEAD
   "id": "fcc0192b",
=======
   "id": "742049ef",
>>>>>>> 3b539dd2c55b1a4267bd1f9b7b8ff36dce6917d5
   "metadata": {},
   "outputs": [
    {
     "name": "stdout",
     "output_type": "stream",
     "text": [
      "3\n",
      "1\n"
     ]
    }
   ],
   "source": [
    "n = 5\n",
    "while n > 0:\n",
    "    n -= 1\n",
    "    if n % 2 == 0:\n",
    "        continue\n",
    "    print(n)"
   ]
  },
  {
   "cell_type": "code",
   "execution_count": 91,
<<<<<<< HEAD
   "id": "bdd3890d",
=======
   "id": "3da90ba6",
>>>>>>> 3b539dd2c55b1a4267bd1f9b7b8ff36dce6917d5
   "metadata": {},
   "outputs": [
    {
     "name": "stdout",
     "output_type": "stream",
     "text": [
      "4\n",
      "3\n",
      "2\n",
      "1\n",
      "0\n",
      "Loop done.\n"
     ]
    }
   ],
   "source": [
    "n = 5\n",
    "while n > 0:\n",
    "    n -= 1\n",
    "    print(n)\n",
    "else:\n",
    "    print('Loop done.')"
   ]
  },
  {
   "cell_type": "code",
   "execution_count": 96,
<<<<<<< HEAD
   "id": "da65e1a9",
=======
   "id": "5c7eafbb",
>>>>>>> 3b539dd2c55b1a4267bd1f9b7b8ff36dce6917d5
   "metadata": {},
   "outputs": [
    {
     "name": "stdout",
     "output_type": "stream",
     "text": [
      "1.0\n",
      "Finally\n"
     ]
    }
   ],
   "source": [
    "try:\n",
    "    print(1/1)\n",
    "except:\n",
    "    print(\"Division by 0\")\n",
    "finally:\n",
    "    print(\"Finally\")"
   ]
  },
  {
   "cell_type": "code",
   "execution_count": 99,
<<<<<<< HEAD
   "id": "da8d59f6",
=======
   "id": "0d33d668",
>>>>>>> 3b539dd2c55b1a4267bd1f9b7b8ff36dce6917d5
   "metadata": {},
   "outputs": [
    {
     "name": "stdout",
     "output_type": "stream",
     "text": [
      "son\n"
     ]
    }
   ],
   "source": [
    "age = 10\n",
    "gender = \"M\"\n",
    "if age < 18:\n",
    "    if gender == 'M':\n",
    "        print('son')\n",
    "    else:\n",
    "        print('daughter')\n",
    "elif age >= 18 and age < 65:\n",
    "    if gender == 'M':\n",
    "        print('father')\n",
    "    else:\n",
    "        print('mother')\n",
    "else:\n",
    "    if gender == 'M':\n",
    "        print('grandfather')\n",
    "    else:\n",
    "        print('grandmother')"
   ]
  },
  {
   "cell_type": "code",
   "execution_count": 100,
<<<<<<< HEAD
   "id": "8d414e1d",
=======
   "id": "147019f5",
>>>>>>> 3b539dd2c55b1a4267bd1f9b7b8ff36dce6917d5
   "metadata": {},
   "outputs": [
    {
     "name": "stdout",
     "output_type": "stream",
     "text": [
      "4\n",
      "3\n",
      "2\n",
      "1\n",
      "0\n"
     ]
    }
   ],
   "source": [
    "n = 5\n",
    "while n > 0: n -= 1; print(n)"
   ]
  },
  {
   "cell_type": "markdown",
<<<<<<< HEAD
   "id": "9329eadb",
=======
   "id": "5765212c",
>>>>>>> 3b539dd2c55b1a4267bd1f9b7b8ff36dce6917d5
   "metadata": {},
   "source": [
    "#### Definite"
   ]
  },
  {
   "cell_type": "code",
   "execution_count": 102,
<<<<<<< HEAD
   "id": "778d4ab7",
=======
   "id": "6dc50a62",
>>>>>>> 3b539dd2c55b1a4267bd1f9b7b8ff36dce6917d5
   "metadata": {},
   "outputs": [
    {
     "name": "stdout",
     "output_type": "stream",
     "text": [
      "foo\n",
      "bar\n",
      "baz\n"
     ]
    }
   ],
   "source": [
    "a = ['foo', 'bar', 'baz']\n",
    "for i in a:\n",
    "    print(i)"
   ]
  },
  {
   "cell_type": "code",
   "execution_count": 103,
<<<<<<< HEAD
   "id": "3c26cbda",
=======
   "id": "f8f120b4",
>>>>>>> 3b539dd2c55b1a4267bd1f9b7b8ff36dce6917d5
   "metadata": {},
   "outputs": [
    {
     "name": "stdout",
     "output_type": "stream",
     "text": [
      "0\n",
      "1\n",
      "2\n",
      "3\n",
      "4\n",
      "5\n",
      "6\n",
      "7\n",
      "8\n",
      "9\n"
     ]
    }
   ],
   "source": [
    "for i in range(10):\n",
    "    print(i)"
   ]
  },
  {
   "cell_type": "code",
   "execution_count": 106,
<<<<<<< HEAD
   "id": "f46eb1d7",
=======
   "id": "af1ca220",
>>>>>>> 3b539dd2c55b1a4267bd1f9b7b8ff36dce6917d5
   "metadata": {},
   "outputs": [
    {
     "name": "stdout",
     "output_type": "stream",
     "text": [
      "foo\n",
      "bar\n",
      "baz\n"
     ]
    }
   ],
   "source": [
    "d = {'foo': 1, \n",
    "     'bar': 2, \n",
    "     'baz': 3}\n",
    "\n",
    "for k in d:\n",
    "    print(k)"
   ]
  },
  {
   "cell_type": "code",
   "execution_count": 108,
<<<<<<< HEAD
   "id": "064fc4c7",
=======
   "id": "c0fca6c4",
>>>>>>> 3b539dd2c55b1a4267bd1f9b7b8ff36dce6917d5
   "metadata": {},
   "outputs": [
    {
     "name": "stdout",
     "output_type": "stream",
     "text": [
      "foo 1\n",
      "bar 2\n",
      "baz 3\n"
     ]
    }
   ],
   "source": [
    "for k in d:\n",
    "    print(k,d[k])"
   ]
  },
  {
   "cell_type": "code",
   "execution_count": 109,
<<<<<<< HEAD
   "id": "0374b0ca",
=======
   "id": "297f3ace",
>>>>>>> 3b539dd2c55b1a4267bd1f9b7b8ff36dce6917d5
   "metadata": {},
   "outputs": [
    {
     "name": "stdout",
     "output_type": "stream",
     "text": [
      "1\n",
      "2\n",
      "3\n"
     ]
    }
   ],
   "source": [
    "for k in d.values():\n",
    "    print(k)"
   ]
  },
  {
   "cell_type": "code",
   "execution_count": 110,
<<<<<<< HEAD
   "id": "e9640143",
=======
   "id": "6e90fbda",
>>>>>>> 3b539dd2c55b1a4267bd1f9b7b8ff36dce6917d5
   "metadata": {},
   "outputs": [
    {
     "name": "stdout",
     "output_type": "stream",
     "text": [
      "foo\n",
      "bar\n",
      "baz\n"
     ]
    }
   ],
   "source": [
    "for k in d.keys():\n",
    "    print(k)"
   ]
  },
  {
   "cell_type": "code",
   "execution_count": 112,
<<<<<<< HEAD
   "id": "ab4d6fd2",
=======
   "id": "f8acd77f",
>>>>>>> 3b539dd2c55b1a4267bd1f9b7b8ff36dce6917d5
   "metadata": {},
   "outputs": [
    {
     "name": "stdout",
     "output_type": "stream",
     "text": [
      "foo 1\n",
      "bar 2\n",
      "baz 3\n"
     ]
    }
   ],
   "source": [
    "for k,v in d.items():\n",
    "    print(k,v)"
   ]
  },
  {
   "cell_type": "code",
   "execution_count": 113,
<<<<<<< HEAD
   "id": "b8f1dfc9",
=======
   "id": "8bd285fe",
>>>>>>> 3b539dd2c55b1a4267bd1f9b7b8ff36dce6917d5
   "metadata": {},
   "outputs": [
    {
     "name": "stdout",
     "output_type": "stream",
     "text": [
      "0\n",
      "1\n",
      "2\n",
      "3\n",
      "4\n"
     ]
    }
   ],
   "source": [
    "for n in (0, 1, 2, 3, 4):\n",
    "    print(n)"
   ]
  },
  {
   "cell_type": "code",
   "execution_count": 124,
<<<<<<< HEAD
   "id": "b17f3abb",
=======
   "id": "6a63845a",
>>>>>>> 3b539dd2c55b1a4267bd1f9b7b8ff36dce6917d5
   "metadata": {},
   "outputs": [],
   "source": [
    "\n",
    "a = [1,2,3,4]\n",
    "b = ['a','b','c','d']"
   ]
  },
  {
   "cell_type": "code",
   "execution_count": 117,
<<<<<<< HEAD
   "id": "15a8496b",
=======
   "id": "53af4d82",
>>>>>>> 3b539dd2c55b1a4267bd1f9b7b8ff36dce6917d5
   "metadata": {},
   "outputs": [
    {
     "name": "stdout",
     "output_type": "stream",
     "text": [
      "0 a 1\n",
      "1 b 2\n",
      "2 c 3\n"
     ]
    }
   ],
   "source": [
    "\n",
    "\n",
    "for index, element in enumerate(b):\n",
    "    print(index, element, a[index])"
   ]
  },
  {
   "cell_type": "code",
   "execution_count": 125,
<<<<<<< HEAD
   "id": "2b4cb258",
=======
   "id": "9bd60021",
>>>>>>> 3b539dd2c55b1a4267bd1f9b7b8ff36dce6917d5
   "metadata": {},
   "outputs": [
    {
     "name": "stdout",
     "output_type": "stream",
     "text": [
      "1 a\n",
      "2 b\n",
      "3 c\n",
      "4 d\n"
     ]
    }
   ],
   "source": [
    "for x,y in zip(a,b):\n",
    "    print(x,y)"
   ]
  },
  {
   "cell_type": "code",
   "execution_count": 126,
<<<<<<< HEAD
   "id": "c30d2cda",
=======
   "id": "309e460b",
>>>>>>> 3b539dd2c55b1a4267bd1f9b7b8ff36dce6917d5
   "metadata": {},
   "outputs": [
    {
     "name": "stdout",
     "output_type": "stream",
     "text": [
      "foo\n"
     ]
    }
   ],
   "source": [
    "for i in ['foo', 'bar', 'baz', 'qux']:\n",
    "    if 'b' in i:\n",
    "        break\n",
    "    print(i)"
   ]
  },
  {
   "cell_type": "code",
   "execution_count": 127,
<<<<<<< HEAD
   "id": "8afd5197",
=======
   "id": "1652e081",
>>>>>>> 3b539dd2c55b1a4267bd1f9b7b8ff36dce6917d5
   "metadata": {},
   "outputs": [
    {
     "name": "stdout",
     "output_type": "stream",
     "text": [
      "foo\n",
      "qux\n"
     ]
    }
   ],
   "source": [
    "for i in ['foo', 'bar', 'baz', 'qux']:\n",
    "    if 'b' in i:\n",
    "        continue\n",
    "    print(i)"
   ]
  },
  {
   "cell_type": "code",
   "execution_count": 128,
<<<<<<< HEAD
   "id": "723194fb",
=======
   "id": "6161f59a",
>>>>>>> 3b539dd2c55b1a4267bd1f9b7b8ff36dce6917d5
   "metadata": {},
   "outputs": [
    {
     "name": "stdout",
     "output_type": "stream",
     "text": [
      "foo\n",
      "bar\n",
      "baz\n",
      "qux\n",
      "Done.\n"
     ]
    }
   ],
   "source": [
    "for i in ['foo', 'bar', 'baz', 'qux']:\n",
    "    print(i)\n",
    "else:\n",
    "    print('Done.')  # Will execute"
   ]
  },
  {
   "cell_type": "code",
   "execution_count": 129,
<<<<<<< HEAD
   "id": "617aafd7",
=======
   "id": "67843d5f",
>>>>>>> 3b539dd2c55b1a4267bd1f9b7b8ff36dce6917d5
   "metadata": {},
   "outputs": [
    {
     "name": "stdout",
     "output_type": "stream",
     "text": [
      "0\n",
      "1\n",
      "2\n"
     ]
    }
   ],
   "source": [
    "for i in range(3):\n",
    "    print(i)"
   ]
  },
  {
   "cell_type": "code",
   "execution_count": 132,
<<<<<<< HEAD
   "id": "2497e011",
=======
   "id": "81d0fe4e",
>>>>>>> 3b539dd2c55b1a4267bd1f9b7b8ff36dce6917d5
   "metadata": {},
   "outputs": [
    {
     "name": "stdout",
     "output_type": "stream",
     "text": [
      "    *\n",
      "    **\n",
      "    ***\n",
      "    ****\n",
      "    *****\n"
     ]
    }
   ],
   "source": [
    "star = 5\n",
    "for i in range(star):\n",
    "    x=\" \"*(star-1) + \"*\"*(i+1)\n",
    "    print(x)"
   ]
  },
  {
   "cell_type": "code",
   "execution_count": null,
<<<<<<< HEAD
   "id": "fe9187d8",
=======
   "id": "ca88546e",
>>>>>>> 3b539dd2c55b1a4267bd1f9b7b8ff36dce6917d5
   "metadata": {},
   "outputs": [],
   "source": []
  }
 ],
 "metadata": {
  "kernelspec": {
   "display_name": "H8_001",
   "language": "python",
   "name": "h8_001"
  },
  "language_info": {
   "codemirror_mode": {
    "name": "ipython",
    "version": 3
   },
   "file_extension": ".py",
   "mimetype": "text/x-python",
   "name": "python",
   "nbconvert_exporter": "python",
   "pygments_lexer": "ipython3",
   "version": "3.7.11"
  }
 },
 "nbformat": 4,
 "nbformat_minor": 5
}
