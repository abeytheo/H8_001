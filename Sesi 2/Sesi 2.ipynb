{
 "cells": [
  {
   "cell_type": "markdown",
   "id": "75a334d3",
   "metadata": {},
   "source": [
    "### Conditional"
   ]
  },
  {
   "cell_type": "code",
   "execution_count": 26,
   "id": "5d80ca2d",
   "metadata": {},
   "outputs": [
    {
     "data": {
      "text/plain": [
       "False"
      ]
     },
     "execution_count": 26,
     "metadata": {},
     "output_type": "execute_result"
    }
   ],
   "source": [
    "a = 1\n",
    "b = 2\n",
    "\n",
    "a == b"
   ]
  },
  {
   "cell_type": "code",
   "execution_count": 27,
   "id": "05b033d3",
   "metadata": {},
   "outputs": [
    {
     "data": {
      "text/plain": [
       "True"
      ]
     },
     "execution_count": 27,
     "metadata": {},
     "output_type": "execute_result"
    }
   ],
   "source": [
    "a != b"
   ]
  },
  {
   "cell_type": "code",
   "execution_count": 28,
   "id": "558a0e16",
   "metadata": {},
   "outputs": [
    {
     "data": {
      "text/plain": [
       "False"
      ]
     },
     "execution_count": 28,
     "metadata": {},
     "output_type": "execute_result"
    }
   ],
   "source": [
    "a >= b"
   ]
  },
  {
   "cell_type": "markdown",
   "id": "389a656c",
   "metadata": {},
   "source": [
    "### If Statement"
   ]
  },
  {
   "cell_type": "code",
   "execution_count": 29,
   "id": "7b01597f",
   "metadata": {},
   "outputs": [],
   "source": [
    "if a == b:\n",
    "    print(\"Sama\")"
   ]
  },
  {
   "cell_type": "code",
   "execution_count": 31,
   "id": "1657554a",
   "metadata": {},
   "outputs": [
    {
     "name": "stdout",
     "output_type": "stream",
     "text": [
      "Tidak Sama\n"
     ]
    }
   ],
   "source": [
    "if a != b:\n",
    "    print(\"Tidak Sama\")"
   ]
  },
  {
   "cell_type": "code",
   "execution_count": 33,
   "id": "7e7e38df",
   "metadata": {},
   "outputs": [
    {
     "name": "stdout",
     "output_type": "stream",
     "text": [
      "Sama\n",
      "Tidak Sama\n"
     ]
    }
   ],
   "source": [
    "if a != b:\n",
    "    print(\"Sama\")\n",
    "    a = 1\n",
    "    print(\"Tidak Sama\")"
   ]
  },
  {
   "cell_type": "code",
   "execution_count": 35,
   "id": "695584ab",
   "metadata": {},
   "outputs": [
    {
     "name": "stdout",
     "output_type": "stream",
     "text": [
      "A\n",
      "B\n"
     ]
    }
   ],
   "source": [
    "if a != b:\n",
    "    print(\"A\")\n",
    "    if a != b:\n",
    "        print(\"B\")"
   ]
  },
  {
   "cell_type": "code",
   "execution_count": 36,
   "id": "df2eb9fa",
   "metadata": {},
   "outputs": [],
   "source": [
    "### if - else"
   ]
  },
  {
   "cell_type": "code",
   "execution_count": 40,
   "id": "fb58b822",
   "metadata": {},
   "outputs": [
    {
     "name": "stdout",
     "output_type": "stream",
     "text": [
      "(second suite)\n",
      "x is large\n"
     ]
    }
   ],
   "source": [
    "x = 20\n",
    "\n",
    "if x > 50:\n",
    "    print('(first suite)')\n",
    "    print('x is small')\n",
    "else:\n",
    "    print('(second suite)')\n",
    "    print('x is large')"
   ]
  },
  {
   "cell_type": "code",
   "execution_count": 41,
   "id": "905026a8",
   "metadata": {},
   "outputs": [
    {
     "name": "stdout",
     "output_type": "stream",
     "text": [
      "Majalah bisa dibeli\n"
     ]
    }
   ],
   "source": [
    "harga_buku = 2000\n",
    "harga_majalah = 1000\n",
    "uang = 1500\n",
    "\n",
    "if uang > harga_buku:\n",
    "    print(\"Buku bisa terbeli\")\n",
    "elif uang > harga_majalah:\n",
    "    print(\"Majalah bisa dibeli\")\n",
    "else:\n",
    "    print(\"Tidak bisa beli apa-apa\")"
   ]
  },
  {
   "cell_type": "code",
   "execution_count": 42,
   "id": "760fed0b",
   "metadata": {},
   "outputs": [
    {
     "name": "stdout",
     "output_type": "stream",
     "text": [
      "Excellent\n"
     ]
    }
   ],
   "source": [
    "### 1-5\n",
    "star_rating = 5\n",
    "\n",
    "### 5 - Excellent\n",
    "### 4, 3 ,2 , 1 - Biasa Saja\n",
    "\n",
    "if star_rating == 5:\n",
    "    print(\"Excellent\")\n",
    "elif star_rating == 4:\n",
    "    print(\"Typical\")\n",
    "elif star_rating == 3:\n",
    "    print(\"Typical\")\n",
    "elif star_rating == 2:\n",
    "    print(\"Typical\")\n",
    "elif star_rating == 1:\n",
    "    print(\"Typical\")"
   ]
  },
  {
   "cell_type": "code",
   "execution_count": 43,
   "id": "fcf8d900",
   "metadata": {},
   "outputs": [
    {
     "name": "stdout",
     "output_type": "stream",
     "text": [
      "Excellent\n"
     ]
    }
   ],
   "source": [
    "if star_rating == 5:\n",
    "    print(\"Excellent\")\n",
    "else:\n",
    "    print(\"Typical\")"
   ]
  },
  {
   "cell_type": "code",
   "execution_count": 45,
   "id": "0041b174",
   "metadata": {},
   "outputs": [],
   "source": [
    "x = None\n",
    "y = \"\"\n",
    "z = 1"
   ]
  },
  {
   "cell_type": "code",
   "execution_count": 46,
   "id": "e9952d69",
   "metadata": {},
   "outputs": [
    {
     "name": "stdout",
     "output_type": "stream",
     "text": [
      "x nya None kak\n"
     ]
    }
   ],
   "source": [
    "if x == None:\n",
    "    print(\"x nya None kak\")"
   ]
  },
  {
   "cell_type": "code",
   "execution_count": 48,
   "id": "e7b8aac2",
   "metadata": {},
   "outputs": [
    {
     "name": "stdout",
     "output_type": "stream",
     "text": [
      "x nya None kak\n"
     ]
    }
   ],
   "source": [
    "if not x:\n",
    "    print(\"x nya None kak\")"
   ]
  },
  {
   "cell_type": "code",
   "execution_count": 49,
   "id": "64496264",
   "metadata": {},
   "outputs": [
    {
     "name": "stdout",
     "output_type": "stream",
     "text": [
      "y nya empty kak\n"
     ]
    }
   ],
   "source": [
    "if not y:\n",
    "    print(\"y nya empty kak\")"
   ]
  },
  {
   "cell_type": "code",
   "execution_count": 51,
   "id": "0564f395",
   "metadata": {},
   "outputs": [
    {
     "name": "stdout",
     "output_type": "stream",
     "text": [
      "z nya 1\n"
     ]
    }
   ],
   "source": [
    "if z:\n",
    "    print(\"z nya 1\")"
   ]
  },
  {
   "cell_type": "markdown",
   "id": "b4732476",
   "metadata": {},
   "source": [
    "### One line if statements"
   ]
  },
  {
   "cell_type": "code",
   "execution_count": 57,
   "id": "67a9b6df",
   "metadata": {},
   "outputs": [
    {
     "name": "stdout",
     "output_type": "stream",
     "text": [
      "Meat is bought\n"
     ]
    }
   ],
   "source": [
    "basket = ['fish','meat','noodle']\n",
    "if 'fishx' in basket: print(\"Fish is bought\");\n",
    "elif 'meat' in basket: print(\"Meat is bought\");\n",
    "elif 'noodle' in basket: print(\"Noodle is bought\");"
   ]
  },
  {
   "cell_type": "code",
   "execution_count": 59,
   "id": "ab8a1dfb",
   "metadata": {},
   "outputs": [
    {
     "data": {
      "text/plain": [
       "'Bukan 1'"
      ]
     },
     "execution_count": 59,
     "metadata": {},
     "output_type": "execute_result"
    }
   ],
   "source": [
    "### Ternary operations\n",
    "x = 1\n",
    "\"Satu\" if x == 2 else \"Bukan 1\""
   ]
  },
  {
   "cell_type": "code",
   "execution_count": 62,
   "id": "2fa740f3",
   "metadata": {},
   "outputs": [
    {
     "name": "stdout",
     "output_type": "stream",
     "text": [
      "Let's go to the beach\n"
     ]
    }
   ],
   "source": [
    "raining = False\n",
    "print(\"Let's go to the\", 'beach' if not raining else 'library')"
   ]
  },
  {
   "cell_type": "code",
   "execution_count": 63,
   "id": "4d65c39b",
   "metadata": {},
   "outputs": [],
   "source": [
    "age = 12\n",
    "s = 'teen' if age < 21 else 'adult'"
   ]
  },
  {
   "cell_type": "code",
   "execution_count": 64,
   "id": "f4b1cc51",
   "metadata": {},
   "outputs": [
    {
     "data": {
      "text/plain": [
       "'teen'"
      ]
     },
     "execution_count": 64,
     "metadata": {},
     "output_type": "execute_result"
    }
   ],
   "source": [
    "s"
   ]
  },
  {
   "cell_type": "code",
   "execution_count": 69,
   "id": "2ef71417",
   "metadata": {},
   "outputs": [
    {
     "data": {
      "text/plain": [
       "'Bukan Satu atau Dua'"
      ]
     },
     "execution_count": 69,
     "metadata": {},
     "output_type": "execute_result"
    }
   ],
   "source": [
    "\"Satu\" if x == 2 else \"Dua\" if x == 2 else \"Bukan Satu atau Dua\""
   ]
  },
  {
   "cell_type": "markdown",
   "id": "984aedf9",
   "metadata": {},
   "source": [
    "### Python pass statement"
   ]
  },
  {
   "cell_type": "code",
   "execution_count": 74,
   "id": "7b98662f",
   "metadata": {},
   "outputs": [
    {
     "name": "stdout",
     "output_type": "stream",
     "text": [
      "\n"
     ]
    }
   ],
   "source": [
    "choice = \"Blue\"\n",
    "\n",
    "if choice == \"Blue\":\n",
    "    pass\n",
    "elif choice == \"Red\":\n",
    "    print(\"Pilihannya merah\")"
   ]
  },
  {
   "cell_type": "markdown",
   "id": "4332f301",
   "metadata": {},
   "source": [
    "### Python Iteration"
   ]
  },
  {
   "cell_type": "markdown",
   "id": "a7200c3f",
   "metadata": {},
   "source": [
    "- Definite: for\n",
    "- Indefinite: while"
   ]
  },
  {
   "cell_type": "markdown",
   "id": "b4494d41",
   "metadata": {},
   "source": [
    " #### Indefinite"
   ]
  },
  {
   "cell_type": "code",
   "execution_count": 85,
   "id": "1bee4426",
   "metadata": {},
   "outputs": [
    {
     "name": "stdout",
     "output_type": "stream",
     "text": [
      "10\n",
      "9\n",
      "8\n",
      "7\n",
      "6\n",
      "5\n",
      "4\n",
      "3\n",
      "2\n",
      "1\n"
     ]
    }
   ],
   "source": [
    "x = 10\n",
    "while x >= 1:\n",
    "    print(x)\n",
    "    x -= 1"
   ]
  },
  {
   "cell_type": "code",
   "execution_count": 86,
   "id": "187b473e",
   "metadata": {},
   "outputs": [
    {
     "name": "stdout",
     "output_type": "stream",
     "text": [
      "4\n",
      "3\n",
      "2\n",
      "1\n",
      "0\n"
     ]
    }
   ],
   "source": [
    "n = 5\n",
    "while n > 0:\n",
    "    n -= 1\n",
    "    print(n)"
   ]
  },
  {
   "cell_type": "code",
   "execution_count": 87,
   "id": "43891f5f",
   "metadata": {},
   "outputs": [
    {
     "name": "stdout",
     "output_type": "stream",
     "text": [
      "4\n",
      "3\n",
      "Loop ended.\n"
     ]
    }
   ],
   "source": [
    "n = 5\n",
    "while n > 0:\n",
    "    n -= 1\n",
    "    if n == 2:\n",
    "        break # Break Statement\n",
    "    print(n)\n",
    "print('Loop ended.')"
   ]
  },
  {
   "cell_type": "code",
   "execution_count": 88,
   "id": "742049ef",
   "metadata": {},
   "outputs": [
    {
     "name": "stdout",
     "output_type": "stream",
     "text": [
      "3\n",
      "1\n"
     ]
    }
   ],
   "source": [
    "n = 5\n",
    "while n > 0:\n",
    "    n -= 1\n",
    "    if n % 2 == 0:\n",
    "        continue\n",
    "    print(n)"
   ]
  },
  {
   "cell_type": "code",
   "execution_count": 91,
   "id": "3da90ba6",
   "metadata": {},
   "outputs": [
    {
     "name": "stdout",
     "output_type": "stream",
     "text": [
      "4\n",
      "3\n",
      "2\n",
      "1\n",
      "0\n",
      "Loop done.\n"
     ]
    }
   ],
   "source": [
    "n = 5\n",
    "while n > 0:\n",
    "    n -= 1\n",
    "    print(n)\n",
    "else:\n",
    "    print('Loop done.')"
   ]
  },
  {
   "cell_type": "code",
   "execution_count": 96,
   "id": "5c7eafbb",
   "metadata": {},
   "outputs": [
    {
     "name": "stdout",
     "output_type": "stream",
     "text": [
      "1.0\n",
      "Finally\n"
     ]
    }
   ],
   "source": [
    "try:\n",
    "    print(1/1)\n",
    "except:\n",
    "    print(\"Division by 0\")\n",
    "finally:\n",
    "    print(\"Finally\")"
   ]
  },
  {
   "cell_type": "code",
   "execution_count": 99,
   "id": "0d33d668",
   "metadata": {},
   "outputs": [
    {
     "name": "stdout",
     "output_type": "stream",
     "text": [
      "son\n"
     ]
    }
   ],
   "source": [
    "age = 10\n",
    "gender = \"M\"\n",
    "if age < 18:\n",
    "    if gender == 'M':\n",
    "        print('son')\n",
    "    else:\n",
    "        print('daughter')\n",
    "elif age >= 18 and age < 65:\n",
    "    if gender == 'M':\n",
    "        print('father')\n",
    "    else:\n",
    "        print('mother')\n",
    "else:\n",
    "    if gender == 'M':\n",
    "        print('grandfather')\n",
    "    else:\n",
    "        print('grandmother')"
   ]
  },
  {
   "cell_type": "code",
   "execution_count": 100,
   "id": "147019f5",
   "metadata": {},
   "outputs": [
    {
     "name": "stdout",
     "output_type": "stream",
     "text": [
      "4\n",
      "3\n",
      "2\n",
      "1\n",
      "0\n"
     ]
    }
   ],
   "source": [
    "n = 5\n",
    "while n > 0: n -= 1; print(n)"
   ]
  },
  {
   "cell_type": "markdown",
   "id": "5765212c",
   "metadata": {},
   "source": [
    "#### Definite"
   ]
  },
  {
   "cell_type": "code",
   "execution_count": 102,
   "id": "6dc50a62",
   "metadata": {},
   "outputs": [
    {
     "name": "stdout",
     "output_type": "stream",
     "text": [
      "foo\n",
      "bar\n",
      "baz\n"
     ]
    }
   ],
   "source": [
    "a = ['foo', 'bar', 'baz']\n",
    "for i in a:\n",
    "    print(i)"
   ]
  },
  {
   "cell_type": "code",
   "execution_count": 103,
   "id": "f8f120b4",
   "metadata": {},
   "outputs": [
    {
     "name": "stdout",
     "output_type": "stream",
     "text": [
      "0\n",
      "1\n",
      "2\n",
      "3\n",
      "4\n",
      "5\n",
      "6\n",
      "7\n",
      "8\n",
      "9\n"
     ]
    }
   ],
   "source": [
    "for i in range(10):\n",
    "    print(i)"
   ]
  },
  {
   "cell_type": "code",
   "execution_count": 106,
   "id": "af1ca220",
   "metadata": {},
   "outputs": [
    {
     "name": "stdout",
     "output_type": "stream",
     "text": [
      "foo\n",
      "bar\n",
      "baz\n"
     ]
    }
   ],
   "source": [
    "d = {'foo': 1, \n",
    "     'bar': 2, \n",
    "     'baz': 3}\n",
    "\n",
    "for k in d:\n",
    "    print(k)"
   ]
  },
  {
   "cell_type": "code",
   "execution_count": 108,
   "id": "c0fca6c4",
   "metadata": {},
   "outputs": [
    {
     "name": "stdout",
     "output_type": "stream",
     "text": [
      "foo 1\n",
      "bar 2\n",
      "baz 3\n"
     ]
    }
   ],
   "source": [
    "for k in d:\n",
    "    print(k,d[k])"
   ]
  },
  {
   "cell_type": "code",
   "execution_count": 109,
   "id": "297f3ace",
   "metadata": {},
   "outputs": [
    {
     "name": "stdout",
     "output_type": "stream",
     "text": [
      "1\n",
      "2\n",
      "3\n"
     ]
    }
   ],
   "source": [
    "for k in d.values():\n",
    "    print(k)"
   ]
  },
  {
   "cell_type": "code",
   "execution_count": 110,
   "id": "6e90fbda",
   "metadata": {},
   "outputs": [
    {
     "name": "stdout",
     "output_type": "stream",
     "text": [
      "foo\n",
      "bar\n",
      "baz\n"
     ]
    }
   ],
   "source": [
    "for k in d.keys():\n",
    "    print(k)"
   ]
  },
  {
   "cell_type": "code",
   "execution_count": 112,
   "id": "f8acd77f",
   "metadata": {},
   "outputs": [
    {
     "name": "stdout",
     "output_type": "stream",
     "text": [
      "foo 1\n",
      "bar 2\n",
      "baz 3\n"
     ]
    }
   ],
   "source": [
    "for k,v in d.items():\n",
    "    print(k,v)"
   ]
  },
  {
   "cell_type": "code",
   "execution_count": 113,
   "id": "8bd285fe",
   "metadata": {},
   "outputs": [
    {
     "name": "stdout",
     "output_type": "stream",
     "text": [
      "0\n",
      "1\n",
      "2\n",
      "3\n",
      "4\n"
     ]
    }
   ],
   "source": [
    "for n in (0, 1, 2, 3, 4):\n",
    "    print(n)"
   ]
  },
  {
   "cell_type": "code",
   "execution_count": 124,
   "id": "6a63845a",
   "metadata": {},
   "outputs": [],
   "source": [
    "\n",
    "a = [1,2,3,4]\n",
    "b = ['a','b','c','d']"
   ]
  },
  {
   "cell_type": "code",
   "execution_count": 117,
   "id": "53af4d82",
   "metadata": {},
   "outputs": [
    {
     "name": "stdout",
     "output_type": "stream",
     "text": [
      "0 a 1\n",
      "1 b 2\n",
      "2 c 3\n"
     ]
    }
   ],
   "source": [
    "\n",
    "\n",
    "for index, element in enumerate(b):\n",
    "    print(index, element, a[index])"
   ]
  },
  {
   "cell_type": "code",
   "execution_count": 125,
   "id": "9bd60021",
   "metadata": {},
   "outputs": [
    {
     "name": "stdout",
     "output_type": "stream",
     "text": [
      "1 a\n",
      "2 b\n",
      "3 c\n",
      "4 d\n"
     ]
    }
   ],
   "source": [
    "for x,y in zip(a,b):\n",
    "    print(x,y)"
   ]
  },
  {
   "cell_type": "code",
   "execution_count": 126,
   "id": "309e460b",
   "metadata": {},
   "outputs": [
    {
     "name": "stdout",
     "output_type": "stream",
     "text": [
      "foo\n"
     ]
    }
   ],
   "source": [
    "for i in ['foo', 'bar', 'baz', 'qux']:\n",
    "    if 'b' in i:\n",
    "        break\n",
    "    print(i)"
   ]
  },
  {
   "cell_type": "code",
   "execution_count": 127,
   "id": "1652e081",
   "metadata": {},
   "outputs": [
    {
     "name": "stdout",
     "output_type": "stream",
     "text": [
      "foo\n",
      "qux\n"
     ]
    }
   ],
   "source": [
    "for i in ['foo', 'bar', 'baz', 'qux']:\n",
    "    if 'b' in i:\n",
    "        continue\n",
    "    print(i)"
   ]
  },
  {
   "cell_type": "code",
   "execution_count": 128,
   "id": "6161f59a",
   "metadata": {},
   "outputs": [
    {
     "name": "stdout",
     "output_type": "stream",
     "text": [
      "foo\n",
      "bar\n",
      "baz\n",
      "qux\n",
      "Done.\n"
     ]
    }
   ],
   "source": [
    "for i in ['foo', 'bar', 'baz', 'qux']:\n",
    "    print(i)\n",
    "else:\n",
    "    print('Done.')  # Will execute"
   ]
  },
  {
   "cell_type": "code",
   "execution_count": 129,
   "id": "67843d5f",
   "metadata": {},
   "outputs": [
    {
     "name": "stdout",
     "output_type": "stream",
     "text": [
      "0\n",
      "1\n",
      "2\n"
     ]
    }
   ],
   "source": [
    "for i in range(3):\n",
    "    print(i)"
   ]
  },
  {
   "cell_type": "code",
   "execution_count": 132,
   "id": "81d0fe4e",
   "metadata": {},
   "outputs": [
    {
     "name": "stdout",
     "output_type": "stream",
     "text": [
      "    *\n",
      "    **\n",
      "    ***\n",
      "    ****\n",
      "    *****\n"
     ]
    }
   ],
   "source": [
    "star = 5\n",
    "for i in range(star):\n",
    "    x=\" \"*(star-1) + \"*\"*(i+1)\n",
    "    print(x)"
   ]
  },
  {
   "cell_type": "code",
   "execution_count": null,
   "id": "ca88546e",
   "metadata": {},
   "outputs": [],
   "source": []
  }
 ],
 "metadata": {
  "kernelspec": {
   "display_name": "H8_001",
   "language": "python",
   "name": "h8_001"
  },
  "language_info": {
   "codemirror_mode": {
    "name": "ipython",
    "version": 3
   },
   "file_extension": ".py",
   "mimetype": "text/x-python",
   "name": "python",
   "nbconvert_exporter": "python",
   "pygments_lexer": "ipython3",
   "version": "3.7.11"
  }
 },
 "nbformat": 4,
 "nbformat_minor": 5
}
