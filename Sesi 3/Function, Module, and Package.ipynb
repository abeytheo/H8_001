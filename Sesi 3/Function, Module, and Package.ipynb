{
 "cells": [
  {
   "cell_type": "markdown",
   "id": "e29a1e17",
   "metadata": {},
   "source": [
    "### Function"
   ]
  },
  {
   "cell_type": "code",
   "execution_count": 40,
   "id": "37913959",
   "metadata": {},
   "outputs": [],
   "source": [
    "def jumlah(a,b):\n",
    "    \"\"\"\n",
    "        Function untuk melakukan penjumlahan\n",
    "        \n",
    "        parameters\n",
    "        ----------\n",
    "            a: variable 1\n",
    "            b: variable 2\n",
    "        \n",
    "        returns\n",
    "        ----------\n",
    "            summed values\n",
    "    \"\"\"\n",
    "    \n",
    "    \n",
    "    return a + b"
   ]
  },
  {
   "cell_type": "code",
   "execution_count": 42,
   "id": "2bbe4738",
   "metadata": {},
   "outputs": [],
   "source": [
    "def bagi(a,b):\n",
    "    \n",
    "    return a/b"
   ]
  },
  {
   "cell_type": "code",
   "execution_count": 43,
   "id": "f6bbaba6",
   "metadata": {},
   "outputs": [
    {
     "data": {
      "text/plain": [
       "0.5"
      ]
     },
     "execution_count": 43,
     "metadata": {},
     "output_type": "execute_result"
    }
   ],
   "source": [
    "bagi(1,2)"
   ]
  },
  {
   "cell_type": "code",
   "execution_count": 44,
   "id": "d891b51e",
   "metadata": {},
   "outputs": [
    {
     "data": {
      "text/plain": [
       "2.0"
      ]
     },
     "execution_count": 44,
     "metadata": {},
     "output_type": "execute_result"
    }
   ],
   "source": [
    "bagi(2,1)"
   ]
  },
  {
   "cell_type": "code",
   "execution_count": 41,
   "id": "7977d9fb",
   "metadata": {},
   "outputs": [],
   "source": [
    "import math"
   ]
  },
  {
   "cell_type": "code",
   "execution_count": null,
   "id": "6483bf8d",
   "metadata": {},
   "outputs": [],
   "source": [
    "math.ceil()"
   ]
  },
  {
   "cell_type": "code",
   "execution_count": 48,
   "id": "a5c61705",
   "metadata": {},
   "outputs": [],
   "source": [
    "def jumlah(a:int,b:int) -> int:\n",
    "    \"\"\"\n",
    "        Function untuk melakukan penjumlahan\n",
    "        \n",
    "        parameters\n",
    "        ----------\n",
    "            a: variable 1\n",
    "            b: variable 2\n",
    "        \n",
    "        returns\n",
    "        ----------\n",
    "            summed values\n",
    "    \"\"\"\n",
    "    assert type(a) == int\n",
    "    \n",
    "    return a + b"
   ]
  },
  {
   "cell_type": "code",
   "execution_count": 46,
   "id": "983f864b",
   "metadata": {},
   "outputs": [
    {
     "data": {
      "text/plain": [
       "3"
      ]
     },
     "execution_count": 46,
     "metadata": {},
     "output_type": "execute_result"
    }
   ],
   "source": [
    "jumlah(1,2)"
   ]
  },
  {
   "cell_type": "markdown",
   "id": "7d0a4820",
   "metadata": {},
   "source": [
    "#### Pass by reference vs value"
   ]
  },
  {
   "cell_type": "code",
   "execution_count": 50,
   "id": "a2b7ada1",
   "metadata": {},
   "outputs": [
    {
     "name": "stdout",
     "output_type": "stream",
     "text": [
      "Values inside the function:  [10, 20, 30, [1, 2, 3, 4]]\n",
      "Values outside the function:  [10, 20, 30, [1, 2, 3, 4]]\n"
     ]
    }
   ],
   "source": [
    "# Function definition is here\n",
    "def changeme( mylist ):\n",
    "    \"This changes a passed list into this function\"\n",
    "    mylist.append([1,2,3,4]);\n",
    "    print(\"Values inside the function: \", mylist)\n",
    "    return\n",
    "\n",
    "# Now you can call changeme function\n",
    "mylist = [10,20,30];\n",
    "changeme( mylist );\n",
    "print(\"Values outside the function: \", mylist)"
   ]
  },
  {
   "cell_type": "code",
   "execution_count": 52,
   "id": "40bb6094",
   "metadata": {},
   "outputs": [
    {
     "name": "stdout",
     "output_type": "stream",
     "text": [
      "Values inside the function:  [[1, 2, 3, 4]]\n",
      "Values outside the function:  [10, 20, 30]\n"
     ]
    }
   ],
   "source": [
    "# Function definition is here\n",
    "def changeme( mylist ):\n",
    "    \"This changes a passed list into this function\"\n",
    "    mylist = []\n",
    "    mylist.append([1,2,3,4])\n",
    "    print(\"Values inside the function: \", mylist)\n",
    "    return\n",
    "\n",
    "# Now you can call changeme function\n",
    "mylist = [10,20,30]\n",
    "changeme( mylist )\n",
    "print(\"Values outside the function: \", mylist)"
   ]
  },
  {
   "cell_type": "markdown",
   "id": "9a16f72e",
   "metadata": {},
   "source": [
    "#### Function arguments"
   ]
  },
  {
   "cell_type": "markdown",
   "id": "b3da0ee1",
   "metadata": {},
   "source": [
    "#### 1. Required Arguments"
   ]
  },
  {
   "cell_type": "code",
   "execution_count": 56,
   "id": "9fb4cf32",
   "metadata": {},
   "outputs": [
    {
     "name": "stdout",
     "output_type": "stream",
     "text": [
      "anc\n"
     ]
    }
   ],
   "source": [
    "# Function definition is here\n",
    "def printme( str ):\n",
    "    \"This prints a passed string into this function\"\n",
    "    print(str)\n",
    "    return;\n",
    "\n",
    "# Now you can call printme function\n",
    "printme(\"anc\")"
   ]
  },
  {
   "cell_type": "code",
   "execution_count": 55,
   "id": "c4c387ea",
   "metadata": {},
   "outputs": [
    {
     "name": "stdout",
     "output_type": "stream",
     "text": [
      "1\n"
     ]
    },
    {
     "ename": "TypeError",
     "evalue": "'int' object is not callable",
     "output_type": "error",
     "traceback": [
      "\u001b[0;31m---------------------------------------------------------------------------\u001b[0m",
      "\u001b[0;31mTypeError\u001b[0m                                 Traceback (most recent call last)",
      "\u001b[0;32m<ipython-input-55-99e88a8c0ee6>\u001b[0m in \u001b[0;36m<module>\u001b[0;34m\u001b[0m\n\u001b[1;32m      3\u001b[0m     \u001b[0mprint\u001b[0m\u001b[0;34m(\u001b[0m\u001b[0mround\u001b[0m\u001b[0;34m(\u001b[0m\u001b[0mround\u001b[0m\u001b[0;34m,\u001b[0m\u001b[0;36m2\u001b[0m\u001b[0;34m)\u001b[0m\u001b[0;34m)\u001b[0m\u001b[0;34m\u001b[0m\u001b[0;34m\u001b[0m\u001b[0m\n\u001b[1;32m      4\u001b[0m \u001b[0;34m\u001b[0m\u001b[0m\n\u001b[0;32m----> 5\u001b[0;31m \u001b[0mprintme\u001b[0m\u001b[0;34m(\u001b[0m\u001b[0;36m1\u001b[0m\u001b[0;34m)\u001b[0m\u001b[0;34m\u001b[0m\u001b[0;34m\u001b[0m\u001b[0m\n\u001b[0m",
      "\u001b[0;32m<ipython-input-55-99e88a8c0ee6>\u001b[0m in \u001b[0;36mprintme\u001b[0;34m(round)\u001b[0m\n\u001b[1;32m      1\u001b[0m \u001b[0;32mdef\u001b[0m \u001b[0mprintme\u001b[0m\u001b[0;34m(\u001b[0m\u001b[0mround\u001b[0m\u001b[0;34m)\u001b[0m\u001b[0;34m:\u001b[0m\u001b[0;34m\u001b[0m\u001b[0;34m\u001b[0m\u001b[0m\n\u001b[1;32m      2\u001b[0m     \u001b[0mprint\u001b[0m\u001b[0;34m(\u001b[0m\u001b[0mround\u001b[0m\u001b[0;34m)\u001b[0m\u001b[0;34m\u001b[0m\u001b[0;34m\u001b[0m\u001b[0m\n\u001b[0;32m----> 3\u001b[0;31m     \u001b[0mprint\u001b[0m\u001b[0;34m(\u001b[0m\u001b[0mround\u001b[0m\u001b[0;34m(\u001b[0m\u001b[0mround\u001b[0m\u001b[0;34m,\u001b[0m\u001b[0;36m2\u001b[0m\u001b[0;34m)\u001b[0m\u001b[0;34m)\u001b[0m\u001b[0;34m\u001b[0m\u001b[0;34m\u001b[0m\u001b[0m\n\u001b[0m\u001b[1;32m      4\u001b[0m \u001b[0;34m\u001b[0m\u001b[0m\n\u001b[1;32m      5\u001b[0m \u001b[0mprintme\u001b[0m\u001b[0;34m(\u001b[0m\u001b[0;36m1\u001b[0m\u001b[0;34m)\u001b[0m\u001b[0;34m\u001b[0m\u001b[0;34m\u001b[0m\u001b[0m\n",
      "\u001b[0;31mTypeError\u001b[0m: 'int' object is not callable"
     ]
    }
   ],
   "source": [
    "def printme(round):\n",
    "    print(round)\n",
    "    print(round(round,2))\n",
    "\n",
    "printme(1)"
   ]
  },
  {
   "cell_type": "markdown",
   "id": "87b30546",
   "metadata": {},
   "source": [
    "#### 2. Keyword Arguments"
   ]
  },
  {
   "cell_type": "code",
   "execution_count": 57,
   "id": "e21ec6c1",
   "metadata": {},
   "outputs": [
    {
     "name": "stdout",
     "output_type": "stream",
     "text": [
      "print saya\n"
     ]
    }
   ],
   "source": [
    "printme(str=\"print saya\")"
   ]
  },
  {
   "cell_type": "code",
   "execution_count": 61,
   "id": "1a238c80",
   "metadata": {},
   "outputs": [],
   "source": [
    "def pembelian(baju,meja):\n",
    "    print(f\"Baju: {baju}, Meja: {meja}\")\n",
    "    return"
   ]
  },
  {
   "cell_type": "code",
   "execution_count": 62,
   "id": "b17a3781",
   "metadata": {},
   "outputs": [
    {
     "name": "stdout",
     "output_type": "stream",
     "text": [
      "Baju: UNIQLO, Meja: IKEA\n"
     ]
    }
   ],
   "source": [
    "pembelian(\"UNIQLO\",\"IKEA\")"
   ]
  },
  {
   "cell_type": "code",
   "execution_count": 63,
   "id": "070213a2",
   "metadata": {},
   "outputs": [
    {
     "name": "stdout",
     "output_type": "stream",
     "text": [
      "Baju: UNIQLO, Meja: IKEA\n"
     ]
    }
   ],
   "source": [
    "pembelian(baju=\"UNIQLO\",meja=\"IKEA\")"
   ]
  },
  {
   "cell_type": "markdown",
   "id": "149da805",
   "metadata": {},
   "source": [
    "#### 3. Default Arguments"
   ]
  },
  {
   "cell_type": "code",
   "execution_count": 64,
   "id": "00857b1f",
   "metadata": {},
   "outputs": [
    {
     "name": "stdout",
     "output_type": "stream",
     "text": [
      "Name:  hacktiv8\n",
      "Age:  50\n"
     ]
    }
   ],
   "source": [
    "# Function definition is here\n",
    "def printinfo( name, age = 26 ):\n",
    "    \"This prints a passed info into this function\"\n",
    "    print(\"Name: \", name)\n",
    "    print(\"Age: \", age)\n",
    "    return;\n",
    "\n",
    "# Now you can call printinfo function\n",
    "printinfo( age=50, name=\"hacktiv8\" )"
   ]
  },
  {
   "cell_type": "code",
   "execution_count": 65,
   "id": "46bb2ae0",
   "metadata": {},
   "outputs": [
    {
     "name": "stdout",
     "output_type": "stream",
     "text": [
      "Name:  hacktiv\n",
      "Age:  26\n"
     ]
    }
   ],
   "source": [
    "printinfo( name=\"hacktiv\" )"
   ]
  },
  {
   "cell_type": "code",
   "execution_count": 69,
   "id": "fca32fb6",
   "metadata": {},
   "outputs": [
    {
     "ename": "SyntaxError",
     "evalue": "positional argument follows keyword argument (<ipython-input-69-646c945f95d2>, line 1)",
     "output_type": "error",
     "traceback": [
      "\u001b[0;36m  File \u001b[0;32m\"<ipython-input-69-646c945f95d2>\"\u001b[0;36m, line \u001b[0;32m1\u001b[0m\n\u001b[0;31m    pembelian(baju=\"UNIQLO\",\"IKEA\")\u001b[0m\n\u001b[0m                           ^\u001b[0m\n\u001b[0;31mSyntaxError\u001b[0m\u001b[0;31m:\u001b[0m positional argument follows keyword argument\n"
     ]
    }
   ],
   "source": [
    "pembelian(baju=\"UNIQLO\",\"IKEA\")"
   ]
  },
  {
   "cell_type": "code",
   "execution_count": 68,
   "id": "4c22808a",
   "metadata": {},
   "outputs": [
    {
     "name": "stdout",
     "output_type": "stream",
     "text": [
      "Baju: UNIQLO, Meja: IKEA\n"
     ]
    }
   ],
   "source": [
    "pembelian(\"UNIQLO\",meja=\"IKEA\")"
   ]
  },
  {
   "cell_type": "markdown",
   "id": "896baba5",
   "metadata": {},
   "source": [
    "#### 4. Variable-length arguments"
   ]
  },
  {
   "cell_type": "code",
   "execution_count": 71,
   "id": "4ed41fde",
   "metadata": {},
   "outputs": [
    {
     "name": "stdout",
     "output_type": "stream",
     "text": [
      "Output is: \n",
      "Main arg\n",
      "10\n",
      "Variable-length arg(s)\n",
      "Output is: \n",
      "Main arg\n",
      "70\n",
      "Variable-length arg(s)\n",
      "60\n",
      "50\n",
      "a\n"
     ]
    }
   ],
   "source": [
    "# Function definition is here\n",
    "def printinfo(arg1, *vartuple):\n",
    "    \"This prints a variable passed arguments\"\n",
    "    print(\"Output is: \")\n",
    "    print(\"Main arg\")\n",
    "    print(arg1)\n",
    "    print(\"Variable-length arg(s)\")\n",
    "    for var in vartuple:\n",
    "        print(var)\n",
    "    return;\n",
    "\n",
    "# Now you can call printinfo function\n",
    "printinfo( 10 )\n",
    "printinfo( 70, 60, 50, \"a\" )"
   ]
  },
  {
   "cell_type": "code",
   "execution_count": 76,
   "id": "f54e9a45",
   "metadata": {},
   "outputs": [],
   "source": [
    "def printinfo(arg, *args, **kwargs):\n",
    "    \"This prints a variable passed arguments\"\n",
    "    print(\"Output is: \")\n",
    "    print(\"Main arg\")\n",
    "    print(arg)\n",
    "    print(\"Variable-length arg(s)\")\n",
    "    for var in args:\n",
    "        print(var)\n",
    "    print(\"Keyword arg(s)\")\n",
    "    print(kwargs['a'])\n",
    "    return;"
   ]
  },
  {
   "cell_type": "code",
   "execution_count": 78,
   "id": "42c381ba",
   "metadata": {},
   "outputs": [
    {
     "name": "stdout",
     "output_type": "stream",
     "text": [
      "Output is: \n",
      "Main arg\n",
      "10\n",
      "Variable-length arg(s)\n",
      "20\n",
      "30\n",
      "40\n",
      "Keyword arg(s)\n"
     ]
    },
    {
     "ename": "KeyError",
     "evalue": "'a'",
     "output_type": "error",
     "traceback": [
      "\u001b[0;31m---------------------------------------------------------------------------\u001b[0m",
      "\u001b[0;31mKeyError\u001b[0m                                  Traceback (most recent call last)",
      "\u001b[0;32m<ipython-input-78-6d4776c6573d>\u001b[0m in \u001b[0;36m<module>\u001b[0;34m\u001b[0m\n\u001b[0;32m----> 1\u001b[0;31m \u001b[0mprintinfo\u001b[0m\u001b[0;34m(\u001b[0m\u001b[0;36m10\u001b[0m\u001b[0;34m,\u001b[0m\u001b[0;36m20\u001b[0m\u001b[0;34m,\u001b[0m\u001b[0;36m30\u001b[0m\u001b[0;34m,\u001b[0m\u001b[0;36m40\u001b[0m\u001b[0;34m,\u001b[0m\u001b[0mb\u001b[0m\u001b[0;34m=\u001b[0m\u001b[0;36m2\u001b[0m\u001b[0;34m,\u001b[0m\u001b[0mc\u001b[0m\u001b[0;34m=\u001b[0m\u001b[0;36m3\u001b[0m\u001b[0;34m)\u001b[0m\u001b[0;34m\u001b[0m\u001b[0;34m\u001b[0m\u001b[0m\n\u001b[0m",
      "\u001b[0;32m<ipython-input-76-d6cfdc0da69b>\u001b[0m in \u001b[0;36mprintinfo\u001b[0;34m(arg, *args, **kwargs)\u001b[0m\n\u001b[1;32m      8\u001b[0m         \u001b[0mprint\u001b[0m\u001b[0;34m(\u001b[0m\u001b[0mvar\u001b[0m\u001b[0;34m)\u001b[0m\u001b[0;34m\u001b[0m\u001b[0;34m\u001b[0m\u001b[0m\n\u001b[1;32m      9\u001b[0m     \u001b[0mprint\u001b[0m\u001b[0;34m(\u001b[0m\u001b[0;34m\"Keyword arg(s)\"\u001b[0m\u001b[0;34m)\u001b[0m\u001b[0;34m\u001b[0m\u001b[0;34m\u001b[0m\u001b[0m\n\u001b[0;32m---> 10\u001b[0;31m     \u001b[0mprint\u001b[0m\u001b[0;34m(\u001b[0m\u001b[0mkwargs\u001b[0m\u001b[0;34m[\u001b[0m\u001b[0;34m'a'\u001b[0m\u001b[0;34m]\u001b[0m\u001b[0;34m)\u001b[0m\u001b[0;34m\u001b[0m\u001b[0;34m\u001b[0m\u001b[0m\n\u001b[0m\u001b[1;32m     11\u001b[0m     \u001b[0;32mreturn\u001b[0m\u001b[0;34m;\u001b[0m\u001b[0;34m\u001b[0m\u001b[0;34m\u001b[0m\u001b[0m\n",
      "\u001b[0;31mKeyError\u001b[0m: 'a'"
     ]
    }
   ],
   "source": [
    "printinfo(10,20,30,40,b=2,c=3)"
   ]
  },
  {
   "cell_type": "code",
   "execution_count": 79,
   "id": "fe16fe04",
   "metadata": {},
   "outputs": [],
   "source": [
    "def exec(x=1):\n",
    "    print(x+2)\n",
    "    return"
   ]
  },
  {
   "cell_type": "code",
   "execution_count": 80,
   "id": "6b86858d",
   "metadata": {},
   "outputs": [
    {
     "name": "stdout",
     "output_type": "stream",
     "text": [
      "3\n"
     ]
    }
   ],
   "source": [
    "exec()"
   ]
  },
  {
   "cell_type": "code",
   "execution_count": 91,
   "id": "147a959d",
   "metadata": {},
   "outputs": [],
   "source": [
    "def exec(x=1):\n",
    "    print(x+2)\n",
    "    return False"
   ]
  },
  {
   "cell_type": "code",
   "execution_count": 92,
   "id": "a9d7c00d",
   "metadata": {},
   "outputs": [
    {
     "name": "stdout",
     "output_type": "stream",
     "text": [
      "3\n"
     ]
    }
   ],
   "source": [
    "x = exec()"
   ]
  },
  {
   "cell_type": "code",
   "execution_count": 93,
   "id": "86a5465d",
   "metadata": {},
   "outputs": [
    {
     "data": {
      "text/plain": [
       "False"
      ]
     },
     "execution_count": 93,
     "metadata": {},
     "output_type": "execute_result"
    }
   ],
   "source": [
    "x"
   ]
  },
  {
   "cell_type": "code",
   "execution_count": 96,
   "id": "3b1ab2c9",
   "metadata": {},
   "outputs": [],
   "source": [
    "def buah(x=1,y=1,**buahbuahan):\n",
    "    for k,v in buahbuahan.items():\n",
    "        print(k,v)"
   ]
  },
  {
   "cell_type": "code",
   "execution_count": 97,
   "id": "1d6381e2",
   "metadata": {},
   "outputs": [
    {
     "name": "stdout",
     "output_type": "stream",
     "text": [
      "apel 20\n",
      "mangga 30\n",
      "jeruk 15\n"
     ]
    }
   ],
   "source": [
    "buah(x=2,y=2,apel=20,mangga=30,jeruk=15)"
   ]
  },
  {
   "cell_type": "markdown",
   "id": "8e633463",
   "metadata": {},
   "source": [
    "### Anonymous Function"
   ]
  },
  {
   "cell_type": "code",
   "execution_count": 98,
   "id": "d1657449",
   "metadata": {},
   "outputs": [],
   "source": [
    "sum = lambda x,y: x + y"
   ]
  },
  {
   "cell_type": "code",
   "execution_count": 99,
   "id": "7dc4ba9a",
   "metadata": {},
   "outputs": [
    {
     "data": {
      "text/plain": [
       "3"
      ]
     },
     "execution_count": 99,
     "metadata": {},
     "output_type": "execute_result"
    }
   ],
   "source": [
    "sum(1,2)"
   ]
  },
  {
   "cell_type": "code",
   "execution_count": 102,
   "id": "3110f602",
   "metadata": {},
   "outputs": [],
   "source": [
    "def sum2(x,y):\n",
    "    return x+y"
   ]
  },
  {
   "cell_type": "code",
   "execution_count": 103,
   "id": "cf86ebad",
   "metadata": {},
   "outputs": [
    {
     "data": {
      "text/plain": [
       "3"
      ]
     },
     "execution_count": 103,
     "metadata": {},
     "output_type": "execute_result"
    }
   ],
   "source": [
    "sum2(1,2)"
   ]
  },
  {
   "cell_type": "code",
   "execution_count": 105,
   "id": "9e2540c9",
   "metadata": {},
   "outputs": [],
   "source": [
    "j = lambda x: True if x < 1 else False"
   ]
  },
  {
   "cell_type": "code",
   "execution_count": 108,
   "id": "f36933a0",
   "metadata": {},
   "outputs": [
    {
     "data": {
      "text/plain": [
       "True"
      ]
     },
     "execution_count": 108,
     "metadata": {},
     "output_type": "execute_result"
    }
   ],
   "source": [
    "j(0)"
   ]
  },
  {
   "cell_type": "markdown",
   "id": "3fa47e3a",
   "metadata": {},
   "source": [
    "### Return Statement"
   ]
  },
  {
   "cell_type": "code",
   "execution_count": 112,
   "id": "f1e302be",
   "metadata": {},
   "outputs": [],
   "source": [
    "def cari(x, l):\n",
    "    for element in l:\n",
    "        if x == element:\n",
    "            print(\"Found\")\n",
    "            return\n",
    "    print(\"Not found\")"
   ]
  },
  {
   "cell_type": "code",
   "execution_count": 113,
   "id": "989c21b3",
   "metadata": {},
   "outputs": [
    {
     "name": "stdout",
     "output_type": "stream",
     "text": [
      "Found\n"
     ]
    }
   ],
   "source": [
    "cari(1,[2,1,3,4])"
   ]
  },
  {
   "cell_type": "code",
   "execution_count": 114,
   "id": "6ed078c7",
   "metadata": {},
   "outputs": [],
   "source": [
    "def func1(a,b):\n",
    "    return"
   ]
  },
  {
   "cell_type": "code",
   "execution_count": 115,
   "id": "fd5238d7",
   "metadata": {},
   "outputs": [],
   "source": [
    "x = func1(1,1)"
   ]
  },
  {
   "cell_type": "code",
   "execution_count": 117,
   "id": "82efa444",
   "metadata": {},
   "outputs": [
    {
     "name": "stdout",
     "output_type": "stream",
     "text": [
      "None\n"
     ]
    }
   ],
   "source": [
    "if not x:\n",
    "    print(\"None\")"
   ]
  },
  {
   "cell_type": "markdown",
   "id": "99ead68d",
   "metadata": {},
   "source": [
    "### Scope"
   ]
  },
  {
   "cell_type": "code",
   "execution_count": 118,
   "id": "143973bd",
   "metadata": {},
   "outputs": [
    {
     "name": "stdout",
     "output_type": "stream",
     "text": [
      "Inside the function local total :  30\n",
      "Outside the function global total :  0\n"
     ]
    }
   ],
   "source": [
    "total = 0; \n",
    "\n",
    "def sum( arg1, arg2 ):\n",
    "\n",
    "    total = arg1 + arg2; \n",
    "    print(\"Inside the function local total : \", total)\n",
    "    return total;\n",
    "\n",
    "sum( 10, 20 );\n",
    "print(\"Outside the function global total : \", total)"
   ]
  },
  {
   "cell_type": "code",
   "execution_count": 119,
   "id": "baf82aef",
   "metadata": {},
   "outputs": [
    {
     "data": {
      "text/plain": [
       "0"
      ]
     },
     "execution_count": 119,
     "metadata": {},
     "output_type": "execute_result"
    }
   ],
   "source": [
    "total"
   ]
  },
  {
   "cell_type": "code",
   "execution_count": 127,
   "id": "75e251f0",
   "metadata": {},
   "outputs": [],
   "source": [
    "def func2(x,t):\n",
    "    y = 1\n",
    "    print(y+t)"
   ]
  },
  {
   "cell_type": "code",
   "execution_count": 128,
   "id": "019f885e",
   "metadata": {},
   "outputs": [
    {
     "name": "stdout",
     "output_type": "stream",
     "text": [
      "1\n"
     ]
    }
   ],
   "source": [
    "func2(1,total)"
   ]
  },
  {
   "cell_type": "code",
   "execution_count": 130,
   "id": "67841591",
   "metadata": {},
   "outputs": [],
   "source": [
    "config = {}"
   ]
  },
  {
   "cell_type": "code",
   "execution_count": 131,
   "id": "468c1924",
   "metadata": {},
   "outputs": [],
   "source": [
    "config['db_name'] = 'db_user'"
   ]
  },
  {
   "cell_type": "code",
   "execution_count": 135,
   "id": "b1ad629e",
   "metadata": {},
   "outputs": [],
   "source": [
    "def select_db():\n",
    "    print(\"ABC\",config['db_name'])\n",
    "\n",
    "def update_db(statement):\n",
    "    print(\"BCD\",config[\"db_name\"])"
   ]
  },
  {
   "cell_type": "code",
   "execution_count": 136,
   "id": "39faa1a8",
   "metadata": {},
   "outputs": [
    {
     "name": "stdout",
     "output_type": "stream",
     "text": [
      "ABC db_user\n"
     ]
    }
   ],
   "source": [
    "select_db()"
   ]
  },
  {
   "cell_type": "code",
   "execution_count": 140,
   "id": "8e7709bb",
   "metadata": {},
   "outputs": [
    {
     "name": "stdout",
     "output_type": "stream",
     "text": [
      "3\n",
      "3\n"
     ]
    }
   ],
   "source": [
    "global i\n",
    "i = 1\n",
    "def global_func():\n",
    "    global i\n",
    "    i = 3\n",
    "    print(i)\n",
    "    \n",
    "global_func()\n",
    "print(i)"
   ]
  },
  {
   "cell_type": "code",
   "execution_count": 139,
   "id": "e319a465",
   "metadata": {},
   "outputs": [
    {
     "name": "stdout",
     "output_type": "stream",
     "text": [
      "1\n"
     ]
    }
   ],
   "source": [
    "global_func()"
   ]
  },
  {
   "cell_type": "markdown",
   "id": "cf79ac8b",
   "metadata": {},
   "source": [
    "### Module and Package"
   ]
  },
  {
   "cell_type": "code",
   "execution_count": 1,
   "id": "3be21499",
   "metadata": {},
   "outputs": [],
   "source": [
    "import mod"
   ]
  },
  {
   "cell_type": "code",
   "execution_count": 2,
   "id": "c20a48e8",
   "metadata": {},
   "outputs": [
    {
     "data": {
      "text/plain": [
       "'Nama Kalian'"
      ]
     },
     "execution_count": 2,
     "metadata": {},
     "output_type": "execute_result"
    }
   ],
   "source": [
    "mod.s"
   ]
  },
  {
   "cell_type": "code",
   "execution_count": 3,
   "id": "42b4eb70",
   "metadata": {},
   "outputs": [
    {
     "data": {
      "text/plain": [
       "123"
      ]
     },
     "execution_count": 3,
     "metadata": {},
     "output_type": "execute_result"
    }
   ],
   "source": [
    "mod.a"
   ]
  },
  {
   "cell_type": "code",
   "execution_count": 7,
   "id": "0987b9b0",
   "metadata": {},
   "outputs": [
    {
     "data": {
      "text/plain": [
       "'bar'"
      ]
     },
     "execution_count": 7,
     "metadata": {},
     "output_type": "execute_result"
    }
   ],
   "source": [
    "mod.foo()"
   ]
  },
  {
   "cell_type": "markdown",
   "id": "bf54ca4b",
   "metadata": {},
   "source": [
    "#### path"
   ]
  },
  {
   "cell_type": "code",
   "execution_count": 4,
   "id": "bbaef73b",
   "metadata": {},
   "outputs": [],
   "source": [
    "import sys"
   ]
  },
  {
   "cell_type": "code",
   "execution_count": 9,
   "id": "82f3417d",
   "metadata": {},
   "outputs": [
    {
     "data": {
      "text/plain": [
       "['/Users/abrahamtheodorus/hacktiv8/github/H8_001/Sesi 3',\n",
       " '/Users/abrahamtheodorus/opt/miniconda3/envs/H8_001/lib/python37.zip',\n",
       " '/Users/abrahamtheodorus/opt/miniconda3/envs/H8_001/lib/python3.7',\n",
       " '/Users/abrahamtheodorus/opt/miniconda3/envs/H8_001/lib/python3.7/lib-dynload',\n",
       " '',\n",
       " '/Users/abrahamtheodorus/opt/miniconda3/envs/H8_001/lib/python3.7/site-packages',\n",
       " '/Users/abrahamtheodorus/opt/miniconda3/envs/H8_001/lib/python3.7/site-packages/IPython/extensions',\n",
       " '/Users/abrahamtheodorus/.ipython']"
      ]
     },
     "execution_count": 9,
     "metadata": {},
     "output_type": "execute_result"
    }
   ],
   "source": [
    "sys.path"
   ]
  },
  {
   "cell_type": "code",
   "execution_count": 10,
   "id": "fb81ad79",
   "metadata": {},
   "outputs": [
    {
     "ename": "ModuleNotFoundError",
     "evalue": "No module named 'external'",
     "output_type": "error",
     "traceback": [
      "\u001b[0;31m---------------------------------------------------------------------------\u001b[0m",
      "\u001b[0;31mModuleNotFoundError\u001b[0m                       Traceback (most recent call last)",
      "\u001b[0;32m<ipython-input-10-47d996e0e69c>\u001b[0m in \u001b[0;36m<module>\u001b[0;34m\u001b[0m\n\u001b[0;32m----> 1\u001b[0;31m \u001b[0;32mimport\u001b[0m \u001b[0mexternal\u001b[0m\u001b[0;34m.\u001b[0m\u001b[0mtest\u001b[0m\u001b[0;34m\u001b[0m\u001b[0;34m\u001b[0m\u001b[0m\n\u001b[0m",
      "\u001b[0;31mModuleNotFoundError\u001b[0m: No module named 'external'"
     ]
    }
   ],
   "source": [
    "import external.test"
   ]
  },
  {
   "cell_type": "code",
   "execution_count": 5,
   "id": "b05ff09b",
   "metadata": {},
   "outputs": [],
   "source": [
    "sys.path.append('../')"
   ]
  },
  {
   "cell_type": "code",
   "execution_count": 15,
   "id": "3d2201b3",
   "metadata": {},
   "outputs": [],
   "source": [
    "sys.path.insert(0,'../')"
   ]
  },
  {
   "cell_type": "code",
   "execution_count": 2,
   "id": "811ea90b",
   "metadata": {},
   "outputs": [
    {
     "ename": "ModuleNotFoundError",
     "evalue": "No module named 'external'",
     "output_type": "error",
     "traceback": [
      "\u001b[0;31m---------------------------------------------------------------------------\u001b[0m",
      "\u001b[0;31mModuleNotFoundError\u001b[0m                       Traceback (most recent call last)",
      "\u001b[0;32m<ipython-input-2-47d996e0e69c>\u001b[0m in \u001b[0;36m<module>\u001b[0;34m\u001b[0m\n\u001b[0;32m----> 1\u001b[0;31m \u001b[0;32mimport\u001b[0m \u001b[0mexternal\u001b[0m\u001b[0;34m.\u001b[0m\u001b[0mtest\u001b[0m\u001b[0;34m\u001b[0m\u001b[0;34m\u001b[0m\u001b[0m\n\u001b[0m",
      "\u001b[0;31mModuleNotFoundError\u001b[0m: No module named 'external'"
     ]
    }
   ],
   "source": [
    "import external.test"
   ]
  },
  {
   "cell_type": "code",
   "execution_count": 14,
   "id": "1f38271f",
   "metadata": {},
   "outputs": [
    {
     "data": {
      "text/plain": [
       "'baz'"
      ]
     },
     "execution_count": 14,
     "metadata": {},
     "output_type": "execute_result"
    }
   ],
   "source": [
    "external.test.foo()"
   ]
  },
  {
   "cell_type": "code",
   "execution_count": 17,
   "id": "3150b16c",
   "metadata": {},
   "outputs": [],
   "source": [
    "import src.data.user"
   ]
  },
  {
   "cell_type": "code",
   "execution_count": 18,
   "id": "e7cb9c31",
   "metadata": {},
   "outputs": [
    {
     "data": {
      "text/plain": [
       "'../external/test.py'"
      ]
     },
     "execution_count": 18,
     "metadata": {},
     "output_type": "execute_result"
    }
   ],
   "source": [
    "external.test.__file__"
   ]
  },
  {
   "cell_type": "code",
   "execution_count": 19,
   "id": "811cffac",
   "metadata": {},
   "outputs": [],
   "source": [
    "import mod"
   ]
  },
  {
   "cell_type": "code",
   "execution_count": 21,
   "id": "509c5bd9",
   "metadata": {},
   "outputs": [
    {
     "data": {
      "text/plain": [
       "'Nama Kalian'"
      ]
     },
     "execution_count": 21,
     "metadata": {},
     "output_type": "execute_result"
    }
   ],
   "source": [
    "mod.s"
   ]
  },
  {
   "cell_type": "code",
   "execution_count": 22,
   "id": "fbf3c6ac",
   "metadata": {},
   "outputs": [
    {
     "ename": "NameError",
     "evalue": "name 's' is not defined",
     "output_type": "error",
     "traceback": [
      "\u001b[0;31m---------------------------------------------------------------------------\u001b[0m",
      "\u001b[0;31mNameError\u001b[0m                                 Traceback (most recent call last)",
      "\u001b[0;32m<ipython-input-22-ded5ba42480f>\u001b[0m in \u001b[0;36m<module>\u001b[0;34m\u001b[0m\n\u001b[0;32m----> 1\u001b[0;31m \u001b[0ms\u001b[0m\u001b[0;34m\u001b[0m\u001b[0;34m\u001b[0m\u001b[0m\n\u001b[0m",
      "\u001b[0;31mNameError\u001b[0m: name 's' is not defined"
     ]
    }
   ],
   "source": [
    "s"
   ]
  },
  {
   "cell_type": "code",
   "execution_count": 23,
   "id": "8a2e378b",
   "metadata": {},
   "outputs": [],
   "source": [
    "from mod import a,s,Foo"
   ]
  },
  {
   "cell_type": "code",
   "execution_count": 24,
   "id": "c68bb6c5",
   "metadata": {},
   "outputs": [
    {
     "data": {
      "text/plain": [
       "'Nama Kalian'"
      ]
     },
     "execution_count": 24,
     "metadata": {},
     "output_type": "execute_result"
    }
   ],
   "source": [
    "s"
   ]
  },
  {
   "cell_type": "code",
   "execution_count": 25,
   "id": "da619c83",
   "metadata": {},
   "outputs": [],
   "source": [
    "from sklearn import *"
   ]
  },
  {
   "cell_type": "code",
   "execution_count": 10,
   "id": "7a8b05b5",
   "metadata": {},
   "outputs": [],
   "source": [
    "import external.test"
   ]
  },
  {
   "cell_type": "code",
   "execution_count": 6,
   "id": "ea0e6590",
   "metadata": {},
   "outputs": [],
   "source": [
    "from external import test"
   ]
  },
  {
   "cell_type": "code",
   "execution_count": 8,
   "id": "a01d8915",
   "metadata": {},
   "outputs": [],
   "source": [
    "import external.test as t"
   ]
  },
  {
   "cell_type": "code",
   "execution_count": 11,
   "id": "cfc28f34",
   "metadata": {},
   "outputs": [
    {
     "data": {
      "text/plain": [
       "'baz'"
      ]
     },
     "execution_count": 11,
     "metadata": {},
     "output_type": "execute_result"
    }
   ],
   "source": [
    "external.test.foo()"
   ]
  },
  {
   "cell_type": "code",
   "execution_count": 12,
   "id": "c117cf37",
   "metadata": {},
   "outputs": [
    {
     "data": {
      "text/plain": [
       "'baz'"
      ]
     },
     "execution_count": 12,
     "metadata": {},
     "output_type": "execute_result"
    }
   ],
   "source": [
    "t.foo()"
   ]
  },
  {
   "cell_type": "code",
   "execution_count": 13,
   "id": "958b125f",
   "metadata": {},
   "outputs": [],
   "source": [
    "import time, joblib, numpy"
   ]
  },
  {
   "cell_type": "code",
   "execution_count": 15,
   "id": "07648d1d",
   "metadata": {},
   "outputs": [],
   "source": [
    "import numpy as np, pandas as pd"
   ]
  },
  {
   "cell_type": "code",
   "execution_count": 14,
   "id": "00242c1f",
   "metadata": {},
   "outputs": [
    {
     "data": {
      "text/plain": [
       "1630417737.753422"
      ]
     },
     "execution_count": 14,
     "metadata": {},
     "output_type": "execute_result"
    }
   ],
   "source": [
    "time.time()"
   ]
  },
  {
   "cell_type": "code",
   "execution_count": null,
   "id": "893d2123",
   "metadata": {},
   "outputs": [],
   "source": [
    "round()"
   ]
  },
  {
   "cell_type": "code",
   "execution_count": null,
   "id": "83908bd5",
   "metadata": {},
   "outputs": [],
   "source": [
    "import numpy as np\n",
    "np.dot"
   ]
  },
  {
   "cell_type": "code",
   "execution_count": null,
   "id": "de3c5171",
   "metadata": {},
   "outputs": [],
   "source": [
    "from numpy import dot"
   ]
  },
  {
   "cell_type": "code",
   "execution_count": null,
   "id": "9ef85f9e",
   "metadata": {},
   "outputs": [],
   "source": [
    "def dot(x=[1,2],y=[2,3]):\n",
    "    return x*y"
   ]
  },
  {
   "cell_type": "code",
   "execution_count": 2,
   "id": "6a5a04e4",
   "metadata": {},
   "outputs": [],
   "source": [
    "import mod as mymodule"
   ]
  },
  {
   "cell_type": "code",
   "execution_count": 3,
   "id": "5c9949ac",
   "metadata": {},
   "outputs": [
    {
     "data": {
      "text/plain": [
       "'bar'"
      ]
     },
     "execution_count": 3,
     "metadata": {},
     "output_type": "execute_result"
    }
   ],
   "source": [
    "mymodule.foo()"
   ]
  },
  {
   "cell_type": "code",
   "execution_count": 6,
   "id": "e1bcb21d",
   "metadata": {},
   "outputs": [],
   "source": [
    "def func3():\n",
    "    import mod\n",
    "    print(mod.foo())"
   ]
  },
  {
   "cell_type": "code",
   "execution_count": 7,
   "id": "26c40965",
   "metadata": {},
   "outputs": [
    {
     "name": "stdout",
     "output_type": "stream",
     "text": [
      "bar\n"
     ]
    }
   ],
   "source": [
    "func3()"
   ]
  },
  {
   "cell_type": "code",
   "execution_count": 8,
   "id": "18ac16ae",
   "metadata": {},
   "outputs": [
    {
     "ename": "ModuleNotFoundError",
     "evalue": "No module named 'lib'",
     "output_type": "error",
     "traceback": [
      "\u001b[0;31m---------------------------------------------------------------------------\u001b[0m",
      "\u001b[0;31mModuleNotFoundError\u001b[0m                       Traceback (most recent call last)",
      "\u001b[0;32m<ipython-input-8-1de2605c06f3>\u001b[0m in \u001b[0;36m<module>\u001b[0;34m\u001b[0m\n\u001b[0;32m----> 1\u001b[0;31m \u001b[0;32mimport\u001b[0m \u001b[0mlib\u001b[0m\u001b[0;34m\u001b[0m\u001b[0;34m\u001b[0m\u001b[0m\n\u001b[0m",
      "\u001b[0;31mModuleNotFoundError\u001b[0m: No module named 'lib'"
     ]
    }
   ],
   "source": [
    "import lib"
   ]
  },
  {
   "cell_type": "code",
   "execution_count": 1,
   "id": "0e969134",
   "metadata": {},
   "outputs": [
    {
     "name": "stdout",
     "output_type": "stream",
     "text": [
      "Function, Module, and Package.ipynb mod.py\r\n",
      "\u001b[34m__pycache__\u001b[m\u001b[m                         \u001b[34msrc\u001b[m\u001b[m\r\n"
     ]
    }
   ],
   "source": [
    "!ls ."
   ]
  },
  {
   "cell_type": "markdown",
   "id": "01345cee",
   "metadata": {},
   "source": [
    "### dir"
   ]
  },
  {
   "cell_type": "code",
   "execution_count": 4,
   "id": "794c9350",
   "metadata": {
    "scrolled": true
   },
   "outputs": [
    {
     "data": {
      "text/plain": [
       "['In',\n",
       " 'Out',\n",
       " '_',\n",
       " '__',\n",
       " '___',\n",
       " '__builtin__',\n",
       " '__builtins__',\n",
       " '__doc__',\n",
       " '__loader__',\n",
       " '__name__',\n",
       " '__package__',\n",
       " '__spec__',\n",
       " '_dh',\n",
       " '_exit_code',\n",
       " '_i',\n",
       " '_i1',\n",
       " '_i2',\n",
       " '_i3',\n",
       " '_i4',\n",
       " '_ih',\n",
       " '_ii',\n",
       " '_iii',\n",
       " '_oh',\n",
       " 'exit',\n",
       " 'get_ipython',\n",
       " 'quit']"
      ]
     },
     "execution_count": 4,
     "metadata": {},
     "output_type": "execute_result"
    }
   ],
   "source": [
    "dir()"
   ]
  },
  {
   "cell_type": "code",
   "execution_count": 5,
   "id": "a88da4fd",
   "metadata": {},
   "outputs": [],
   "source": [
    "x = 1"
   ]
  },
  {
   "cell_type": "code",
   "execution_count": 6,
   "id": "6e64a711",
   "metadata": {
    "scrolled": true
   },
   "outputs": [
    {
     "data": {
      "text/plain": [
       "['In',\n",
       " 'Out',\n",
       " '_',\n",
       " '_4',\n",
       " '__',\n",
       " '___',\n",
       " '__builtin__',\n",
       " '__builtins__',\n",
       " '__doc__',\n",
       " '__loader__',\n",
       " '__name__',\n",
       " '__package__',\n",
       " '__spec__',\n",
       " '_dh',\n",
       " '_exit_code',\n",
       " '_i',\n",
       " '_i1',\n",
       " '_i2',\n",
       " '_i3',\n",
       " '_i4',\n",
       " '_i5',\n",
       " '_i6',\n",
       " '_ih',\n",
       " '_ii',\n",
       " '_iii',\n",
       " '_oh',\n",
       " 'exit',\n",
       " 'get_ipython',\n",
       " 'quit',\n",
       " 'x']"
      ]
     },
     "execution_count": 6,
     "metadata": {},
     "output_type": "execute_result"
    }
   ],
   "source": [
    "dir()"
   ]
  },
  {
   "cell_type": "code",
   "execution_count": 7,
   "id": "06568ea0",
   "metadata": {},
   "outputs": [],
   "source": [
    "class Foo:\n",
    "    pass"
   ]
  },
  {
   "cell_type": "code",
   "execution_count": 8,
   "id": "03e21ec6",
   "metadata": {
    "scrolled": true
   },
   "outputs": [
    {
     "data": {
      "text/plain": [
       "['Foo',\n",
       " 'In',\n",
       " 'Out',\n",
       " '_',\n",
       " '_4',\n",
       " '_6',\n",
       " '__',\n",
       " '___',\n",
       " '__builtin__',\n",
       " '__builtins__',\n",
       " '__doc__',\n",
       " '__loader__',\n",
       " '__name__',\n",
       " '__package__',\n",
       " '__spec__',\n",
       " '_dh',\n",
       " '_exit_code',\n",
       " '_i',\n",
       " '_i1',\n",
       " '_i2',\n",
       " '_i3',\n",
       " '_i4',\n",
       " '_i5',\n",
       " '_i6',\n",
       " '_i7',\n",
       " '_i8',\n",
       " '_ih',\n",
       " '_ii',\n",
       " '_iii',\n",
       " '_oh',\n",
       " 'exit',\n",
       " 'get_ipython',\n",
       " 'quit',\n",
       " 'x']"
      ]
     },
     "execution_count": 8,
     "metadata": {},
     "output_type": "execute_result"
    }
   ],
   "source": [
    "dir()"
   ]
  },
  {
   "cell_type": "code",
   "execution_count": 13,
   "id": "0a3b862a",
   "metadata": {},
   "outputs": [
    {
     "name": "stdout",
     "output_type": "stream",
     "text": [
      "# conda environments:\r\n",
      "#\r\n",
      "base                  *  /Users/abrahamtheodorus/opt/miniconda3\r\n",
      "H8_001                   /Users/abrahamtheodorus/opt/miniconda3/envs/H8_001\r\n",
      "h8                       /Users/abrahamtheodorus/opt/miniconda3/envs/h8\r\n",
      "py3                      /Users/abrahamtheodorus/opt/miniconda3/envs/py3\r\n",
      "tf23                     /Users/abrahamtheodorus/opt/miniconda3/envs/tf23\r\n",
      "\r\n"
     ]
    }
   ],
   "source": [
    "!conda env list"
   ]
  },
  {
   "cell_type": "markdown",
   "id": "4048d35f",
   "metadata": {},
   "source": [
    "### Execute python scripts"
   ]
  },
  {
   "cell_type": "code",
   "execution_count": null,
   "id": "bac79f87",
   "metadata": {},
   "outputs": [],
   "source": [
    "!python mod.py -e tes -f file.txt"
   ]
  },
  {
   "cell_type": "markdown",
   "id": "8263130e",
   "metadata": {},
   "source": [
    "### Reloading modules"
   ]
  },
  {
   "cell_type": "code",
   "execution_count": 1,
   "id": "8026149b",
   "metadata": {},
   "outputs": [],
   "source": [
    "import mod"
   ]
  },
  {
   "cell_type": "code",
   "execution_count": 22,
   "id": "de7aebb2",
   "metadata": {},
   "outputs": [],
   "source": [
    "import importlib"
   ]
  },
  {
   "cell_type": "code",
   "execution_count": 31,
   "id": "804b525d",
   "metadata": {},
   "outputs": [
    {
     "data": {
      "text/plain": [
       "<module 'mod' from '/Users/abrahamtheodorus/hacktiv8/github/H8_001/Sesi 3/mod.py'>"
      ]
     },
     "execution_count": 31,
     "metadata": {},
     "output_type": "execute_result"
    }
   ],
   "source": [
    "importlib.reload(mod)"
   ]
  },
  {
   "cell_type": "code",
   "execution_count": 2,
   "id": "b5eddcd0",
   "metadata": {},
   "outputs": [
    {
     "data": {
      "text/plain": [
       "'Nama Kalian2'"
      ]
     },
     "execution_count": 2,
     "metadata": {},
     "output_type": "execute_result"
    }
   ],
   "source": [
    "mod.s"
   ]
  },
  {
   "cell_type": "markdown",
   "id": "7d1ac62c",
   "metadata": {},
   "source": [
    "### Packaging"
   ]
  },
  {
   "cell_type": "code",
   "execution_count": 3,
   "id": "fcbfdd79",
   "metadata": {},
   "outputs": [
    {
     "name": "stdout",
     "output_type": "stream",
     "text": [
      "pip 21.1.2 from /Users/abrahamtheodorus/opt/miniconda3/lib/python3.7/site-packages/pip (python 3.7)\r\n"
     ]
    }
   ],
   "source": [
    "!pip --version"
   ]
  },
  {
   "cell_type": "code",
   "execution_count": 7,
   "id": "3289d657",
   "metadata": {
    "scrolled": false
   },
   "outputs": [
    {
     "name": "stdout",
     "output_type": "stream",
     "text": [
      "requests               2.25.1\r\n",
      "requests-unixsocket    0.2.0\r\n"
     ]
    }
   ],
   "source": [
    "!pip list | grep request"
   ]
  },
  {
   "cell_type": "code",
   "execution_count": 8,
   "id": "e8444a67",
   "metadata": {},
   "outputs": [
    {
     "name": "stdout",
     "output_type": "stream",
     "text": [
      "Name: requests\r\n",
      "Version: 2.25.1\r\n",
      "Summary: Python HTTP for Humans.\r\n",
      "Home-page: https://requests.readthedocs.io\r\n",
      "Author: Kenneth Reitz\r\n",
      "Author-email: me@kennethreitz.org\r\n",
      "License: Apache 2.0\r\n",
      "Location: /Users/abrahamtheodorus/opt/miniconda3/lib/python3.7/site-packages\r\n",
      "Requires: certifi, urllib3, chardet, idna\r\n",
      "Required-by: requests-unixsocket, jupyterlab-server, conda\r\n"
     ]
    }
   ],
   "source": [
    "!pip show requests"
   ]
  },
  {
   "cell_type": "code",
   "execution_count": 9,
   "id": "6bd85421",
   "metadata": {},
   "outputs": [],
   "source": [
    "!pip freeze > requirements.txt"
   ]
  },
  {
   "cell_type": "code",
   "execution_count": 11,
   "id": "69ee5370",
   "metadata": {},
   "outputs": [
    {
     "name": "stdout",
     "output_type": "stream",
     "text": [
      "\u001b[31mERROR: Could not find a version that satisfies the requirement requirements.txt (from versions: none)\u001b[0m\r\n",
      "\u001b[31mERROR: No matching distribution found for requirements.txt\u001b[0m\r\n"
     ]
    }
   ],
   "source": [
    "!pip install -r requirements.txt"
   ]
  },
  {
   "cell_type": "code",
   "execution_count": 12,
   "id": "32e07515",
   "metadata": {},
   "outputs": [
    {
     "name": "stdout",
     "output_type": "stream",
     "text": [
      "\r\n",
      "Usage:   \r\n",
      "  pip search [options] <query>\r\n",
      "\r\n",
      "Description:\r\n",
      "  Search for PyPI packages whose name or summary contains <query>.\r\n",
      "\r\n",
      "Search Options:\r\n",
      "  -i, --index <url>           Base URL of Python Package Index (default\r\n",
      "                              https://pypi.org/pypi)\r\n",
      "\r\n",
      "General Options:\r\n",
      "  -h, --help                  Show help.\r\n",
      "  --isolated                  Run pip in an isolated mode, ignoring\r\n",
      "                              environment variables and user configuration.\r\n",
      "  -v, --verbose               Give more output. Option is additive, and can be\r\n",
      "                              used up to 3 times.\r\n",
      "  -V, --version               Show version and exit.\r\n",
      "  -q, --quiet                 Give less output. Option is additive, and can be\r\n",
      "                              used up to 3 times (corresponding to WARNING,\r\n",
      "                              ERROR, and CRITICAL logging levels).\r\n",
      "  --log <path>                Path to a verbose appending log.\r\n",
      "  --no-input                  Disable prompting for input.\r\n",
      "  --proxy <proxy>             Specify a proxy in the form\r\n",
      "                              [user:passwd@]proxy.server:port.\r\n",
      "  --retries <retries>         Maximum number of retries each connection should\r\n",
      "                              attempt (default 5 times).\r\n",
      "  --timeout <sec>             Set the socket timeout (default 15 seconds).\r\n",
      "  --exists-action <action>    Default action when a path already exists:\r\n",
      "                              (s)witch, (i)gnore, (w)ipe, (b)ackup, (a)bort.\r\n",
      "  --trusted-host <hostname>   Mark this host or host:port pair as trusted,\r\n",
      "                              even though it does not have valid or any HTTPS.\r\n",
      "  --cert <path>               Path to PEM-encoded CA certificate bundle. If\r\n",
      "                              provided, overrides the default. See 'SSL\r\n",
      "                              Certificate Verification' in pip documentation\r\n",
      "                              for more information.\r\n",
      "  --client-cert <path>        Path to SSL client certificate, a single file\r\n",
      "                              containing the private key and the certificate\r\n",
      "                              in PEM format.\r\n",
      "  --cache-dir <dir>           Store the cache data in <dir>.\r\n",
      "  --no-cache-dir              Disable the cache.\r\n",
      "  --disable-pip-version-check\r\n",
      "                              Don't periodically check PyPI to determine\r\n",
      "                              whether a new version of pip is available for\r\n",
      "                              download. Implied with --no-index.\r\n",
      "  --no-color                  Suppress colored output.\r\n",
      "  --no-python-version-warning\r\n",
      "                              Silence deprecation warnings for upcoming\r\n",
      "                              unsupported Pythons.\r\n",
      "  --use-feature <feature>     Enable new functionality, that may be backward\r\n",
      "                              incompatible.\r\n",
      "  --use-deprecated <feature>  Enable deprecated functionality, that will be\r\n",
      "                              removed in the future.\r\n"
     ]
    }
   ],
   "source": [
    "!pip help search"
   ]
  },
  {
   "cell_type": "code",
   "execution_count": 13,
   "id": "6e40b23a",
   "metadata": {},
   "outputs": [
    {
     "name": "stdout",
     "output_type": "stream",
     "text": [
      "\u001b[31mERROR: XMLRPC request failed [code: -32500]\r\n",
      "RuntimeError: PyPI's XMLRPC API is currently disabled due to unmanageable load and will be deprecated in the near future. See https://status.python.org/ for more information.\u001b[0m\r\n"
     ]
    }
   ],
   "source": []
  },
  {
   "cell_type": "code",
   "execution_count": null,
   "id": "67a907d3",
   "metadata": {},
   "outputs": [],
   "source": []
  }
 ],
 "metadata": {
  "kernelspec": {
   "display_name": "H8_001",
   "language": "python",
   "name": "h8_001"
  },
  "language_info": {
   "codemirror_mode": {
    "name": "ipython",
    "version": 3
   },
   "file_extension": ".py",
   "mimetype": "text/x-python",
   "name": "python",
   "nbconvert_exporter": "python",
   "pygments_lexer": "ipython3",
   "version": "3.7.11"
  }
 },
 "nbformat": 4,
 "nbformat_minor": 5
}
